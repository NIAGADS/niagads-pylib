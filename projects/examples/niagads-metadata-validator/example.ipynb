{
    "cells": [
        {
            "cell_type": "markdown",
            "id": "562d972b",
            "metadata": {},
            "source": [
                "# Package: niagads-metadata-validator"
            ]
        },
        {
            "cell_type": "code",
            "execution_count": 68,
            "id": "072f292c",
            "metadata": {},
            "outputs": [],
            "source": [
                "import json\n",
                "import niagads.metadata_validator_tool.core as mv_tool\n",
                "\n",
                "schemaDir = 'schemas'\n",
                "metadataFileDir = 'metadata_files'\n",
                "filePrefix = f'{metadataFileDir}/test_'\n",
                "\n",
                "# helper function for pretty printing the result of a validation run\n",
                "def pretty_print(result):\n",
                "    print(json.dumps(result, indent=4))"
            ]
        },
        {
            "cell_type": "markdown",
            "id": "75553218",
            "metadata": {},
            "source": [
                "### Overview\n",
                "\n",
                "niagads-metadata-validator is used to provide _row-level_ validation of metadata information.  It can do the following:\n",
                "\n",
                "* ensure required fields are present, including conditional dependencies (e.g., `array_id` is required only if `platform = array`)\n",
                "* ensure field values match a regular expression or controlled vocabulary\n",
                "\n",
                "Default validation does not do _file-level_ validation, with one exception:\n",
                "\n",
                "* biosource property files: ensures each biosource is assigned a unique id and occurs exactly once in the file (**required** check) \n",
                "\n",
                "### Schema files\n",
                "\n",
                "Schema files should meet the (JSON Schema)[https://json-schema.org/] **Draft7** specification.  \n",
                "\n",
                "For examples and conventions for NIAGADS projects, as well as useful references for getting started with JSON schema, please see <https://github.com/NIAGADS/metadata>.\n",
                "\n",
                "### Supported file types\n",
                "\n",
                "Supported file types for metadata information are delimited text (`.txt`, `.tab`, `.csv`) and EXCEL (`.xlsx`, `.xls`).\n",
                "\n",
                "#### Metadata validators\n",
                "\n",
                "The `mv_tool` makes file-type specific validation decisions based on a `metadataType` argument whose value is constrained by a `MetadataValidatorType` **case-insensitive** enum.  \n",
                "\n",
                "The two types of supported metadata files are:\n",
                "\n",
                "* _Biosource Properties_: a file that maps a sample or participant to descriptive properties\n",
                "(e.g., phenotype or material) or a ISA-TAB-like sample file\n",
                "* _File Manifest_: file manifest or a sample-data-relationship (SDRF) file"
            ]
        },
        {
            "cell_type": "code",
            "execution_count": 69,
            "id": "ba2df105",
            "metadata": {},
            "outputs": [
                {
                    "name": "stdout",
                    "output_type": "stream",
                    "text": [
                        "['BIOSOURCE_PROPERTIES', 'FILE_MANIFEST']\n",
                        "BIOSOURCE_PROPERTIES\n",
                        "BIOSOURCE_PROPERTIES\n"
                    ]
                }
            ],
            "source": [
                "# list supported Metadata Validators\n",
                "print(mv_tool.MetadataValidatorType.list())\n",
                "\n",
                "# this enum is case insensitive\n",
                "print(mv_tool.MetadataValidatorType('biosource_properties'))\n",
                "print(mv_tool.MetadataValidatorType('BIOSOURCE_PROPERTIES'))"
            ]
        },
        {
            "cell_type": "markdown",
            "id": "d2aec82a",
            "metadata": {},
            "source": [
                "\n",
                "### Usage Examples\n",
                "\n",
                "#### Default validation given schema and metadata files.\n",
                "\n",
                "For default validation, use `mv_tool.run()`, which returns a dictionary with two lists: `errors` and `warnings`. \n",
                "\n",
                "If the file passes validation, both will be empty arrays as follows:\n",
                "\n",
                "```json\n",
                "{\n",
                "    \"errors\": [],\n",
                "    \"warnings\": []\n",
                "}\n",
                "```\n",
                "\n",
                "Validation errors will be reported by row number or as a full-file check validation error.  In the example below, row #3 is missing the required field `sample_id`, and a duplicate sample (`duplicate_SAMPLE_ID`) was found in the file:\n",
                "\n",
                "```json\n",
                "{\n",
                "    \"errors\": [\n",
                "        {\n",
                "            \"3\": [\n",
                "                \"required field `sample_id` cannot be empty / null\"\n",
                "            ]\n",
                "        },\n",
                "        {\n",
                "            \"duplicate_SAMPLE_ID\": [\n",
                "                \"SAMPLE1\"\n",
                "            ]\n",
                "        }\n",
                "    ],\n",
                "    \"warnings\": []\n",
                "}\n",
                "```\n",
                "\n",
                "#### Example: Parse a `BIOSOURCE_PROPERTY` file using the default validator\n",
                "\n",
                "Biosource property file validation does a check that each biosource **is unique**.  \n",
                "\n",
                "An `idField` that maps to the field in the metadata file containing the unique biosource identifier needs to be set to run this validation (e.g., `sample_id`, `participant_id`, `donor_id`, `subject_id`)."
            ]
        },
        {
            "cell_type": "code",
            "execution_count": 70,
            "id": "a2ffb794",
            "metadata": {},
            "outputs": [
                {
                    "name": "stdout",
                    "output_type": "stream",
                    "text": [
                        "{\n",
                        "    \"errors\": [],\n",
                        "    \"warnings\": []\n",
                        "}\n"
                    ]
                }
            ],
            "source": [
                "metadataFile = f'{metadataFileDir}/test_sample_info.tab'\n",
                "schemaFile = f'{schemaDir}/sample_info.json'\n",
                "idField = 'sample_id'\n",
                "result = mv_tool.run(metadataFile, schemaFile, metadataType='BIOSOURCE_PROPERTIES', idField=idField)\n",
                "pretty_print(result)"
            ]
        },
        {
            "cell_type": "markdown",
            "id": "d1f2025d",
            "metadata": {},
            "source": [
                "If your schema & files are templated, `mv_tool` provides functions to generate the file names and verify their existance before attempting to validate.  \n",
                "\n",
                "Templated metadata files are named to match schema such that `*participant-info.ext`  is validated using `participant-info.json`.\n",
                "\n"
            ]
        },
        {
            "cell_type": "code",
            "execution_count": 71,
            "id": "8cb55bfb",
            "metadata": {},
            "outputs": [
                {
                    "name": "stdout",
                    "output_type": "stream",
                    "text": [
                        "Schema File: schemas/participant_info.json\n",
                        "Metadata File: metadata_files/test_participant_info.tab\n",
                        "{\n",
                        "    \"errors\": [],\n",
                        "    \"warnings\": []\n",
                        "}\n"
                    ]
                }
            ],
            "source": [
                "template = 'participant_info'\n",
                "schemaFile = mv_tool.get_templated_schema_file(schemaDir, template)\n",
                "print(f'Schema File: {schemaFile}')\n",
                "\n",
                "metadataFile = mv_tool.get_templated_metadata_file(filePrefix, template)\n",
                "print(f'Metadata File: {metadataFile}')\n",
                "\n",
                "# straight run\n",
                "validationResult = mv_tool.run(metadataFile, schemaFile, 'biosource_properties', 'participant_id')\n",
                "pretty_print(validationResult)"
            ]
        },
        {
            "cell_type": "markdown",
            "id": "cd59c3f8",
            "metadata": {},
            "source": [
                "### Customize validation by retrieving the validator object\n",
                "\n",
                "`mv_tool` provides a function `initialize_validator` function that initializes and returns the validator object so that you can perform custom validations and file-level operations not specified in or allowed by the JSON schema.\n",
                "\n",
                "For full documentation on Validator objects, please see the **niagads-pylib/metadata-validator** [README](https://github.com/NIAGADS/niagads-pylib/blob/6b54d6b1b836564e79f5cf40afaf3522c3379732/components/niagads/metadata_validator/README.md)\n",
                "\n",
                "#### Example Biosource Properties Validator"
            ]
        },
        {
            "cell_type": "code",
            "execution_count": 72,
            "id": "82066e82",
            "metadata": {},
            "outputs": [
                {
                    "name": "stdout",
                    "output_type": "stream",
                    "text": [
                        "Validator type: <class 'niagads.metadata_validator.core.BiosourcePropertiesValidator'>\n",
                        "Schema: schemas/participant_info.json\n",
                        "Parsed Metadata: [{'participant_id': 'DONOR1', 'cohort': 'KNIGHT-ADRC', 'consent': None, 'sex': 'Male', 'race': 'Asian', 'ethnicity': 'Hispanic or Latino', 'diagnosis': None, 'disease': 'AD', 'APOE': None, 'comment': 'clinical diagnosis'}, {'participant_id': 'DONOR2', 'cohort': 'ROSMAP', 'consent': None, 'sex': 'Female', 'race': 'White', 'ethnicity': 'Not Hispanic or Latino', 'diagnosis': None, 'disease': 'AD', 'APOE': None, 'comment': None}, {'participant_id': 'DONOR3', 'cohort': 'KNIGHT-ADRC', 'consent': None, 'sex': 'Male', 'race': 'White', 'ethnicity': 'Hispanic or Latino', 'diagnosis': None, 'disease': 'AD', 'APOE': None, 'comment': None}, {'participant_id': 'DONOR4', 'cohort': 'KNIGHT-ADRC', 'consent': None, 'sex': 'Not reported', 'race': None, 'ethnicity': 'Not Hispanic or Latino', 'diagnosis': None, 'disease': None, 'APOE': None, 'comment': None}, {'participant_id': 'DONOR5', 'cohort': 'ROSMAP', 'consent': None, 'sex': None, 'race': 'Asian', 'ethnicity': 'Not reported', 'diagnosis': None, 'disease': None, 'APOE': None, 'comment': None}]\n",
                        "Biosource IDs: ['DONOR1', 'DONOR2', 'DONOR3', 'DONOR4', 'DONOR5']\n",
                        "Race: ['KNIGHT-ADRC', 'ROSMAP', 'KNIGHT-ADRC', 'KNIGHT-ADRC', 'ROSMAP']\n",
                        "Validation Result: {'errors': []}\n"
                    ]
                }
            ],
            "source": [
                "# get an initialized validator object\n",
                "metadataFile = f'{metadataFileDir}/test_participant_info.tab'\n",
                "schemaFile = f'{schemaDir}/participant_info.json'\n",
                "validator = mv_tool.initialize_validator(metadataFile, schemaFile, 'biosource_properties', 'participant_id')\n",
                "\n",
                "# access validator properties / members\n",
                "print(f'Validator type: {type(validator)}')\n",
                "print(f'Schema: {validator.get_schema()}')\n",
                "print(f'Parsed Metadata: {validator.get_metadata()}')\n",
                "print(f'Biosource IDs: {validator.get_biosource_ids()}')\n",
                "print(f'Race: {validator.get_field_values('cohort')}')\n",
                "\n",
                "# run the validation\n",
                "validationResult = validator.run()\n",
                "print(f'Validation Result: {validationResult}')"
            ]
        },
        {
            "cell_type": "markdown",
            "id": "2721dd6f",
            "metadata": {},
            "source": [
                "#### Example Custom File Manifest Validator\n",
                "\n",
                "With file manifests or sample-data-relationship files that are paired with sample information, a necessary validation is to ensure that every referenced sample was present in the original `sample_info` file.  This requires a two-step process:\n",
                "\n",
                "1. initialize a `biosource_properties` validator to retrieve sample IDs\n",
                "2. pass the sample IDs to the `file_manifest` validator"
            ]
        },
        {
            "cell_type": "code",
            "execution_count": 73,
            "id": "29979cd0",
            "metadata": {},
            "outputs": [
                {
                    "name": "stdout",
                    "output_type": "stream",
                    "text": [
                        "{\n",
                        "    \"errors\": [\n",
                        "        {\n",
                        "            \"invalid_SAMPLE_ID\": [\n",
                        "                \"SAMPLE7\"\n",
                        "            ]\n",
                        "        }\n",
                        "    ],\n",
                        "    \"warnings\": [\n",
                        "        {\n",
                        "            \"no_file_for_SAMPLE_ID\": [\n",
                        "                \"SAMPLE3\",\n",
                        "                \"SAMPLE1\"\n",
                        "            ]\n",
                        "        }\n",
                        "    ]\n",
                        "}\n"
                    ]
                }
            ],
            "source": [
                "# get an initialized BiosourcePropertiesValidator\n",
                "sampleInfo = f'{metadataFileDir}/test_sample_info.tab'\n",
                "schemaFile = f'{schemaDir}/sample_info.json'\n",
                "bsValidator = mv_tool.initialize_validator(sampleInfo, schemaFile, 'biosource_properties', 'sample_id')\n",
                "bsValidator.run() # optionally run the validator to ensure uniqueness of sample IDs\n",
                "\n",
                "# retrieve sample IDs\n",
                "sampleIds = bsValidator.get_biosource_ids()\n",
                "\n",
                "# get \n",
                "fileManifest = f'{metadataFileDir}/test_file_manifest.tab'\n",
                "schemaFile = f'{schemaDir}/file_manifest.json'\n",
                "\n",
                "# get an initialized FileManifestValidator Object\n",
                "# also illustrates how to set metadataType using the enum to avoid typos\n",
                "fmValidator = mv_tool.initialize_validator(fileManifest, schemaFile, mv_tool.MetadataValidatorType.FILE_MANIFEST, 'sample_id')\n",
                "\n",
                "# set the reference sample list\n",
                "fmValidator.set_sample_reference(sampleIds)\n",
                "\n",
                "# set the mapped field for the samples in the file manifest\n",
                "fmValidator.set_sample_field('sample_id')\n",
                "\n",
                "# run the validator\n",
                "validationResult = fmValidator.run()\n",
                "pretty_print(validationResult)"
            ]
        }
    ],
    "metadata": {
        "kernelspec": {
            "display_name": ".venv",
            "language": "python",
            "name": "python3"
        },
        "language_info": {
            "codemirror_mode": {
                "name": "ipython",
                "version": 3
            },
            "file_extension": ".py",
            "mimetype": "text/x-python",
            "name": "python",
            "nbconvert_exporter": "python",
            "pygments_lexer": "ipython3",
            "version": "3.12.3"
        }
    },
    "nbformat": 4,
    "nbformat_minor": 5
}