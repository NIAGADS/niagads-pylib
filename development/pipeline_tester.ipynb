{
 "cells": [
  {
   "cell_type": "markdown",
   "id": "4a93dea1",
   "metadata": {},
   "source": [
    "# Pipeline Tester\n",
    "This notebook is for testing the NIAGADS ETL Framework (Pipeline and Tasks)"
   ]
  },
  {
   "cell_type": "markdown",
   "id": "8e0ceba2",
   "metadata": {},
   "source": [
    "## Test PluginTasks\n",
    "\n",
    "This section is for testing and demonstrating the plugin tasks in the ETL Framework"
   ]
  },
  {
   "cell_type": "markdown",
   "id": "16e51eac",
   "metadata": {},
   "source": [
    "### CLI Plugin Runner\n",
    "\n",
    "This is a tool for running plugins independently of the ETL Pipeline overhead.  In practice it will be executed from the CLI, in the `genomicsdb-loader` project using the command `gdbpexec-plugin`.  Here we test with direct instantiation of the Runner without it's command line wrapper."
   ]
  },
  {
   "cell_type": "markdown",
   "id": "8b3b4a35",
   "metadata": {},
   "source": [
    "### Print Usage\n",
    "\n",
    "Test basic functionality by printing usage information for the `XMLLoaderPlugin` in the NIAGADS ETL framework. All commands are run using the project's Poetry-managed Python environment.\n"
   ]
  },
  {
   "cell_type": "code",
   "execution_count": 3,
   "id": "f98ed9c8",
   "metadata": {},
   "outputs": [
    {
     "name": "stderr",
     "output_type": "stream",
     "text": [
      "<frozen runpy>:128: RuntimeWarning: 'niagads.pipeline_service.runners.plugin' found in sys.modules after import of package 'niagads.pipeline_service.runners', but prior to execution of 'niagads.pipeline_service.runners.plugin'; this may result in unpredictable behaviour\n"
     ]
    },
    {
     "ename": "RuntimeError",
     "evalue": "asyncio.run() cannot be called from a running event loop",
     "output_type": "error",
     "traceback": [
      "\u001b[31m---------------------------------------------------------------------------\u001b[39m",
      "\u001b[31mRuntimeError\u001b[39m                              Traceback (most recent call last)",
      "\u001b[36mFile \u001b[39m\u001b[32m<frozen runpy>:226\u001b[39m, in \u001b[36mrun_module\u001b[39m\u001b[34m(mod_name, init_globals, run_name, alter_sys)\u001b[39m\n",
      "\u001b[36mFile \u001b[39m\u001b[32m<frozen runpy>:98\u001b[39m, in \u001b[36m_run_module_code\u001b[39m\u001b[34m(code, init_globals, mod_name, mod_spec, pkg_name, script_name)\u001b[39m\n",
      "\u001b[36mFile \u001b[39m\u001b[32m<frozen runpy>:88\u001b[39m, in \u001b[36m_run_code\u001b[39m\u001b[34m(code, run_globals, init_globals, mod_name, mod_spec, pkg_name, script_name)\u001b[39m\n",
      "\u001b[36mFile \u001b[39m\u001b[32m~/projects/genomicsdb/niagads-pylib/bases/niagads/pipeline_service/runners/plugin.py:156\u001b[39m\n\u001b[32m    152\u001b[39m     asyncio.run(main())\n\u001b[32m    155\u001b[39m \u001b[38;5;28;01mif\u001b[39;00m \u001b[34m__name__\u001b[39m == \u001b[33m\"\u001b[39m\u001b[33m__main__\u001b[39m\u001b[33m\"\u001b[39m:\n\u001b[32m--> \u001b[39m\u001b[32m156\u001b[39m     \u001b[43mrun_main\u001b[49m\u001b[43m(\u001b[49m\u001b[43m)\u001b[49m\n",
      "\u001b[36mFile \u001b[39m\u001b[32m~/projects/genomicsdb/niagads-pylib/bases/niagads/pipeline_service/runners/plugin.py:152\u001b[39m, in \u001b[36mrun_main\u001b[39m\u001b[34m()\u001b[39m\n\u001b[32m    151\u001b[39m \u001b[38;5;28;01mdef\u001b[39;00m\u001b[38;5;250m \u001b[39m\u001b[34mrun_main\u001b[39m():\n\u001b[32m--> \u001b[39m\u001b[32m152\u001b[39m     \u001b[43masyncio\u001b[49m\u001b[43m.\u001b[49m\u001b[43mrun\u001b[49m\u001b[43m(\u001b[49m\u001b[43mmain\u001b[49m\u001b[43m(\u001b[49m\u001b[43m)\u001b[49m\u001b[43m)\u001b[49m\n",
      "\u001b[36mFile \u001b[39m\u001b[32m/usr/lib/python3.12/asyncio/runners.py:191\u001b[39m, in \u001b[36mrun\u001b[39m\u001b[34m(main, debug, loop_factory)\u001b[39m\n\u001b[32m    161\u001b[39m \u001b[38;5;250m\u001b[39m\u001b[33;03m\"\"\"Execute the coroutine and return the result.\u001b[39;00m\n\u001b[32m    162\u001b[39m \n\u001b[32m    163\u001b[39m \u001b[33;03mThis function runs the passed coroutine, taking care of\u001b[39;00m\n\u001b[32m   (...)\u001b[39m\u001b[32m    187\u001b[39m \u001b[33;03m    asyncio.run(main())\u001b[39;00m\n\u001b[32m    188\u001b[39m \u001b[33;03m\"\"\"\u001b[39;00m\n\u001b[32m    189\u001b[39m \u001b[38;5;28;01mif\u001b[39;00m events._get_running_loop() \u001b[38;5;129;01mis\u001b[39;00m \u001b[38;5;129;01mnot\u001b[39;00m \u001b[38;5;28;01mNone\u001b[39;00m:\n\u001b[32m    190\u001b[39m     \u001b[38;5;66;03m# fail fast with short traceback\u001b[39;00m\n\u001b[32m--> \u001b[39m\u001b[32m191\u001b[39m     \u001b[38;5;28;01mraise\u001b[39;00m \u001b[38;5;167;01mRuntimeError\u001b[39;00m(\n\u001b[32m    192\u001b[39m         \u001b[33m\"\u001b[39m\u001b[33masyncio.run() cannot be called from a running event loop\u001b[39m\u001b[33m\"\u001b[39m)\n\u001b[32m    194\u001b[39m \u001b[38;5;28;01mwith\u001b[39;00m Runner(debug=debug, loop_factory=loop_factory) \u001b[38;5;28;01mas\u001b[39;00m runner:\n\u001b[32m    195\u001b[39m     \u001b[38;5;28;01mreturn\u001b[39;00m runner.run(main)\n",
      "\u001b[31mRuntimeError\u001b[39m: asyncio.run() cannot be called from a running event loop"
     ]
    },
    {
     "name": "stderr",
     "output_type": "stream",
     "text": [
      "/home/allenem/projects/genomicsdb/niagads-pylib/.venv/lib/python3.12/site-packages/IPython/core/interactiveshell.py:3014: UserWarning: Unknown failure executing module: <niagads.pipeline_service.runners.plugin>\n",
      "  warn('Unknown failure executing module: <%s>' % mod_name)\n"
     ]
    }
   ],
   "source": [
    "%run -m niagads.pipeline_service.runners.plugin XMLLoaderPlugin --help"
   ]
  }
 ],
 "metadata": {
  "kernelspec": {
   "display_name": ".venv",
   "language": "python",
   "name": "python3"
  },
  "language_info": {
   "codemirror_mode": {
    "name": "ipython",
    "version": 3
   },
   "file_extension": ".py",
   "mimetype": "text/x-python",
   "name": "python",
   "nbconvert_exporter": "python",
   "pygments_lexer": "ipython3",
   "version": "3.12.9"
  }
 },
 "nbformat": 4,
 "nbformat_minor": 5
}
