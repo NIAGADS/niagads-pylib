{
 "cells": [
  {
   "cell_type": "markdown",
   "id": "562d972b",
   "metadata": {},
   "source": [
    "# Test base.niagads.validate_metadata as both a package and a script"
   ]
  },
  {
   "cell_type": "markdown",
   "id": "15f207e2",
   "metadata": {},
   "source": []
  },
  {
   "cell_type": "code",
   "execution_count": 35,
   "id": "c101b4d0",
   "metadata": {},
   "outputs": [
    {
     "name": "stdout",
     "output_type": "stream",
     "text": [
      "usage: core.py [-h] [--template TEMPLATE] --metadataType\n",
      "               {BIOSOURCE_PROPERTIES,FILE_MANIFEST} [--log] [--failOnError]\n",
      "               [--schemaDir SCHEMADIR]\n",
      "               [--metadataFilePrefix METADATAFILEPREFIX]\n",
      "               [--metadataFile METADATAFILE] [--schemaFile SCHEMAFILE]\n",
      "               [--idField IDFIELD]\n",
      "core.py: error: --template requires --schemaDir and --metadataFilePrefix\n",
      "\n"
     ]
    }
   ],
   "source": [
    "import subprocess\n",
    "result = subprocess.run(['python', '../bases/niagads/validate_metadata/core.py', '--metadataType', 'file_manifest', '--template', 'participant_info'], capture_output=True, text=True)\n",
    "print(result.stderr)"
   ]
  }
 ],
 "metadata": {
  "kernelspec": {
   "display_name": ".venv",
   "language": "python",
   "name": "python3"
  },
  "language_info": {
   "codemirror_mode": {
    "name": "ipython",
    "version": 3
   },
   "file_extension": ".py",
   "mimetype": "text/x-python",
   "name": "python",
   "nbconvert_exporter": "python",
   "pygments_lexer": "ipython3",
   "version": "3.12.3"
  }
 },
 "nbformat": 4,
 "nbformat_minor": 5
}
