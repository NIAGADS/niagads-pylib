{
	"cells": [
		{
			"cell_type": "markdown",
			"id": "77a94ee0",
			"metadata": {},
			"source": [
				"# Notebook for testing SQLAlchemy Models for GenomicsDB Table Definitions "
			]
		},
		{
			"cell_type": "code",
			"execution_count": 25,
			"id": "40238484",
			"metadata": {},
			"outputs": [],
			"source": [
				"# SQLAlchemy imports for the workbook\n",
				"from sqlalchemy.schema import CreateTable"
			]
		},
		{
			"cell_type": "markdown",
			"id": "fd42009c",
			"metadata": {},
			"source": [
				"## Schema: Dataset"
			]
		},
		{
			"cell_type": "code",
			"execution_count": 26,
			"id": "ccd42f79",
			"metadata": {},
			"outputs": [
				{
					"name": "stdout",
					"output_type": "stream",
					"text": [
						"\n",
						"CREATE TABLE dataset.track (\n",
						"\ttrack_metadata_entry_id INTEGER NOT NULL, \n",
						"\ttrack_id VARCHAR NOT NULL, \n",
						"\tdata_store VARCHAR(8) NOT NULL, \n",
						"\tname VARCHAR NOT NULL, \n",
						"\tdescription VARCHAR(2000) NOT NULL, \n",
						"\tgenome_build VARCHAR(6) NOT NULL, \n",
						"\tfeature_type VARCHAR(50) NOT NULL, \n",
						"\tis_download_only BOOLEAN NOT NULL, \n",
						"\tsearchable_text TEXT NOT NULL, \n",
						"\tis_shard BOOLEAN, \n",
						"\tshard_chromosome VARCHAR(5), \n",
						"\tshard_root_track_id VARCHAR, \n",
						"\tcohorts ARRAY, \n",
						"\tbiosample_characteristics JSONB, \n",
						"\tsubject_phenotypes JSONB, \n",
						"\texperimental_design JSONB, \n",
						"\tprovenance JSONB NOT NULL, \n",
						"\tfile_properties JSONB, \n",
						"\tPRIMARY KEY (track_metadata_entry_id), \n",
						"\tCONSTRAINT check_genome_build CHECK (genome_build in ('GRCh37', 'GRCh38')), \n",
						"\tCONSTRAINT check_data_store CHECK (data_store in ('GENOMICS', 'FILER', 'SHARED')), \n",
						"\tCONSTRAINT check_shard_chromosome CHECK (shard_chromosome in ('chr1', 'chr2', 'chr3', 'chr4', 'chr5', 'chr6', 'chr7', 'chr8', 'chr9', 'chr10', 'chr11', 'chr12', 'chr13', 'chr14', 'chr15', 'chr16', 'chr17', 'chr18', 'chr19', 'chr20', 'chr21', 'chr22', 'chrX', 'chrY', 'chrM'))\n",
						")\n",
						"\n",
						"\n"
					]
				}
			],
			"source": [
				"\n",
				"from niagads.genomicsdb.models.dataset.track import Track\n",
				"\n",
				"print(CreateTable(Track.__table__))\n",
				"\n"
			]
		},
		{
			"cell_type": "code",
			"execution_count": 27,
			"id": "9f31a102",
			"metadata": {},
			"outputs": [
				{
					"data": {
						"text/plain": [
							"['GENOMICS', 'FILER', 'SHARED']"
						]
					},
					"execution_count": 27,
					"metadata": {},
					"output_type": "execute_result"
				}
			],
			"source": [
				"from niagads.genomicsdb.models.dataset.track import TrackDataStore\n",
				"\n",
				"TrackDataStore.list()"
			]
		}
	],
	"metadata": {
		"kernelspec": {
			"display_name": ".venv",
			"language": "python",
			"name": "python3"
		},
		"language_info": {
			"codemirror_mode": {
				"name": "ipython",
				"version": 3
			},
			"file_extension": ".py",
			"mimetype": "text/x-python",
			"name": "python",
			"nbconvert_exporter": "python",
			"pygments_lexer": "ipython3",
			"version": "3.12.3"
		}
	},
	"nbformat": 4,
	"nbformat_minor": 5
}
