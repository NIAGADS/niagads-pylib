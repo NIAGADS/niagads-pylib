{
 "cells": [
  {
   "cell_type": "markdown",
   "id": "77a94ee0",
   "metadata": {},
   "source": [
    "# Notebook for testing Database Operations"
   ]
  },
  {
   "cell_type": "code",
   "execution_count": null,
   "id": "40238484",
   "metadata": {},
   "outputs": [
    {
     "data": {
      "text/plain": [
       "True"
      ]
     },
     "execution_count": 1,
     "metadata": {},
     "output_type": "execute_result"
    }
   ],
   "source": [
    "# test a connection string \n",
    "\n",
    "from niagads.database.session import DatabaseSessionManager\n",
    "connectionString = \n",
    "manager = DatabaseSessionManager(connection_string=connectionString)\n",
    "await manager.test_connection()"
   ]
  }
 ],
 "metadata": {
  "kernelspec": {
   "display_name": ".venv",
   "language": "python",
   "name": "python3"
  },
  "language_info": {
   "codemirror_mode": {
    "name": "ipython",
    "version": 3
   },
   "file_extension": ".py",
   "mimetype": "text/x-python",
   "name": "python",
   "nbconvert_exporter": "python",
   "pygments_lexer": "ipython3",
   "version": "3.12.3"
  }
 },
 "nbformat": 4,
 "nbformat_minor": 5
}
