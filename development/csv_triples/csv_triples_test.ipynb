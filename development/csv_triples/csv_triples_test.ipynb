{
 "cells": [
  {
   "cell_type": "code",
   "execution_count": 2,
   "id": "086a0ffc",
   "metadata": {},
   "outputs": [],
   "source": [
    "from niagads.csv_triples_parser.core import CSVTriplesParser\n",
    "\n",
    "file = \"cadro-triples.txt\"\n",
    "defFile = \"cadro-categories.txt\"\n",
    "parser = CSVTriplesParser(file=file, definitionFile=defFile)\n"
   ]
  },
  {
   "cell_type": "code",
   "execution_count": 3,
   "id": "943bc8e8",
   "metadata": {},
   "outputs": [
    {
     "name": "stdout",
     "output_type": "stream",
     "text": [
      "[{'category': 'Molecular Pathogenesis and Physiology of Alzheimer’s Disease and Alzheimer’s Disease-related Dementias (AD/ADRDs)', 'definition': 'This category includes research focused on the molecular and physiological processes underlying Alzheimer’s disease (AD) and Alzheimer’s disease-related dementias (ADRD) pathogenesis and their genetic and epigenetic determinants.'}, {'category': 'Diagnosis, Assessment, and Disease Monitoring', 'definition': 'This category includes research focused on the discovery, development, testing and validation (including through Autopsy) of tools and methods for diagnosing and monitoring individuals with AD and ADRDs from the preclinical phase of the disease through advanced dementia, including post-mortem analyses. These methods and tools include all types of novel and established biomarkers.'}, {'category': 'Translational Research and Clinical Interventions', 'definition': 'This category aims to capture projects focused on the identification, validation and development of potential targets (including small molecule, natural products, and biologics) for AD and ADRDs from early therapeutic discovery through late stage preclinical development and all stages of clinical testing. Also, included are projects focused on repurposing pharmacological agents already in use for other conditions as well as non-pharmacological interventions.'}, {'category': 'Populational Studies', 'definition': 'This category includes a listing of all of cohort and population studies (cross-sectional, cross-national, prospective, and longitudinal) that examine how a variety of genetic, lifestyle, and environmental, and social and behavioral risk factors may influence the incidence, prevalence, and clinical course of AD and ADRDs.'}, {'category': 'Dementia Care and Impact of Disease', 'definition': 'The research in this category includes projects aimed at improving the quality of care and quality of life for persons with dementia in a variety of care-giving settings (e.g., in the home, nursing home facilities, hospice programs) across diverse populations. This category also includes research focused on developing interventions that seek to alleviate the physical and emotional burden often associated with family or informal caregiving, which can include culturally tailored and technological interventions, as well as projects focused on assessing the economic and social impact of AD and ADRDs.'}, {'category': 'Research Resources', 'definition': 'The category includes a variety of resources used to conduct, translate, and disseminate high quality dementia research such as research centers, infrastructure (e.g., various cores), data and tissue repositories, and projects focused on generating disease models. Training and career development programs are also included in this category. Projects in this category may be double coded in Categories A-E and H, based on scientific relevance.'}, {'category': 'Consortia and Public Private Partnerships \\u200b\\u200b', 'definition': 'This category includes partnership enterprises that support major national and international efforts in AD and ADRD research. Projects included in this category may also be double coded in Categories A-F and H.'}, {'category': 'Brain Aging and Common Mechanisms Related to Dementias', 'definition': 'This category includes basic, translational and clinical research on processes and mechanisms of brain aging, and research that explores common mechanisms underlying different diseases that may contribute to our understanding of key concepts in dementia research.'}]\n"
     ]
    }
   ],
   "source": [
    "defs = parser.get_defintions()\n",
    "print(defs)"
   ]
  },
  {
   "cell_type": "code",
   "execution_count": null,
   "id": "534d5e41",
   "metadata": {},
   "outputs": [],
   "source": []
  }
 ],
 "metadata": {
  "kernelspec": {
   "display_name": ".venv",
   "language": "python",
   "name": "python3"
  },
  "language_info": {
   "codemirror_mode": {
    "name": "ipython",
    "version": 3
   },
   "file_extension": ".py",
   "mimetype": "text/x-python",
   "name": "python",
   "nbconvert_exporter": "python",
   "pygments_lexer": "ipython3",
   "version": "3.12.3"
  }
 },
 "nbformat": 4,
 "nbformat_minor": 5
}
