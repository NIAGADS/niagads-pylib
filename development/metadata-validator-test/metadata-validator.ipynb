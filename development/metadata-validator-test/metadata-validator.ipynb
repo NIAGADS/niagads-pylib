{
 "cells": [
  {
   "cell_type": "markdown",
   "id": "562d972b",
   "metadata": {},
   "source": [
    "# Test base/niagads/validate_medatata"
   ]
  },
  {
   "cell_type": "markdown",
   "id": "15f207e2",
   "metadata": {},
   "source": []
  },
  {
   "cell_type": "code",
   "execution_count": 45,
   "id": "072f292c",
   "metadata": {},
   "outputs": [],
   "source": [
    "import subprocess\n",
    "import json\n",
    "\n",
    "def pretty_print(resultStr):\n",
    "    resultJson = json.loads(resultStr.replace('running\\n', '').replace('\\\\\"', ''))\n",
    "    print(json.dumps(resultJson, indent=4))"
   ]
  },
  {
   "cell_type": "markdown",
   "id": "4deb2b2c",
   "metadata": {},
   "source": [
    "## script test `../../bases/niagads/validate_metadata/core.py`"
   ]
  },
  {
   "cell_type": "code",
   "execution_count": 46,
   "id": "c101b4d0",
   "metadata": {},
   "outputs": [
    {
     "name": "stdout",
     "output_type": "stream",
     "text": [
      "\n",
      "running\n",
      "usage: core.py [-h] [--template TEMPLATE] --metadataFileType\n",
      "               {BIOSOURCE_PROPERTIES,FILE_MANIFEST} [--log] [--failOnError]\n",
      "               [--schemaDir SCHEMADIR]\n",
      "               [--metadataFilePrefix METADATAFILEPREFIX]\n",
      "               [--metadataFile METADATAFILE] [--schemaFile SCHEMAFILE]\n",
      "               [--idField IDFIELD]\n",
      "\n",
      "validate_metadata This script allows the user validate a sample or file\n",
      "manifest metadata file arranged in tabular format (field names in columns,\n",
      "values in rows) against a JSON-Schema file. Results are piped to STDOUT unless\n",
      "`--log` option is specified. This tool accepts tab separated value files\n",
      "(.tab) as well as excel (.xls, .xlsx) files. This file can also be imported as\n",
      "a module and contains the following functions / tyes: * MetadataValidatorType\n",
      "- enum of types of expected metadata files * initialize_validator - returns an\n",
      "initialized BiosourcePropertiesValidator or FileManifestValidator *\n",
      "get_templated_schema_file - builds schema file name and verifies that file\n",
      "exists * get_templated_metadata_file - builds metadata file name and verifies\n",
      "that file exists * run - initializes a validator and runs the validaton\n",
      "\n",
      "options:\n",
      "  -h, --help            show this help message and exit\n",
      "  --template TEMPLATE   template name for schema; assumes also metadata file\n",
      "                        matches template pattern\n",
      "  --metadataFileType {BIOSOURCE_PROPERTIES,FILE_MANIFEST}\n",
      "                        type of metadata file\n",
      "  --log                 log results to <metadataFile>.log; otherwise pipes to\n",
      "                        STDOUT\n",
      "  --failOnError         fail on first error; otherwise complete validation and\n",
      "                        generate a list of errors/warnings\n",
      "  --schemaDir SCHEMADIR\n",
      "                        full path to directory containing schema files; if not\n",
      "                        specified assumes current working directory; required\n",
      "                        when `--template` is specified\n",
      "  --metadataFilePrefix METADATAFILEPREFIX\n",
      "                        full path and optional prefix for the templated\n",
      "                        metadata file; required when `--template` is\n",
      "                        specified; e.g. /files/SA99914/TMP_SSA99914_D1_E2-; if\n",
      "                        not specified assumes files are name `template.ext`\n",
      "                        and located in current working directory\n",
      "  --metadataFile METADATAFILE\n",
      "                        full path to metadata file; required when no template\n",
      "                        is specified\n",
      "  --schemaFile SCHEMAFILE\n",
      "                        full path to schema file;required when no template is\n",
      "                        specified\n",
      "  --idField IDFIELD     Biosample or participant id field label; required if\n",
      "                        `--metadataType = BIOSOURCE_PROPERTIES`\n",
      "\n"
     ]
    }
   ],
   "source": [
    "# usage \n",
    "CMD_ROOT = ['python', '../../bases/niagads/validate_metadata/core.py']\n",
    "result = subprocess.run(CMD_ROOT + ['--help'], capture_output=True, text=True)\n",
    "print(result.stderr)\n",
    "print(result.stdout)"
   ]
  },
  {
   "cell_type": "code",
   "execution_count": 47,
   "id": "8ba55188",
   "metadata": {},
   "outputs": [
    {
     "name": "stdout",
     "output_type": "stream",
     "text": [
      "\n",
      "running\n",
      "[]\n",
      "\n"
     ]
    }
   ],
   "source": [
    "# file manifest test\n",
    "schemaFile = './schemas/file_manifest.json'\n",
    "metadataFile = './examples/test_file_manifest.tab'\n",
    "cmd = ['python', '../bases/niagads/validate_metadata/core.py']\n",
    "args = ['--metadataFileType', 'file_manifest', '--schemaFile', schemaFile, '--metadataFile', metadataFile]\n",
    "result = subprocess.run(CMD_ROOT + args, capture_output=True, text=True)\n",
    "print(result.stderr)\n",
    "print(result.stdout)\n"
   ]
  },
  {
   "cell_type": "code",
   "execution_count": 48,
   "id": "041cfabe",
   "metadata": {},
   "outputs": [
    {
     "name": "stdout",
     "output_type": "stream",
     "text": [
      "\n",
      "[\n",
      "    {\n",
      "        \"1\": [\n",
      "            \"'4f08d67f64422' does not match '^[a-fA-F0-9]{32}$'\",\n",
      "            \"unexpected value for `sample_id`; field is not relevant for this record; please set to an empty string in a metadata .tab/.xlsx file; `null` in a .json file\",\n",
      "            \"'single-' is not one of ['single-sample', 'multi-sample', 'sample-independent', 'other']\"\n",
      "        ]\n",
      "    },\n",
      "    {\n",
      "        \"4\": [\n",
      "            \"required field `sample_id` cannot be empty / null\"\n",
      "        ]\n",
      "    }\n",
      "]\n"
     ]
    }
   ],
   "source": [
    "# file manifest with errors te\n",
    "schemaFile = './schemas/file_manifest.json'\n",
    "metadataFile = './examples/test_file_manifest_with_errors.tab'\n",
    "cmd = ['python', '../bases/niagads/validate_metadata/core.py']\n",
    "args = ['--metadataFileType', 'file_manifest', '--schemaFile', schemaFile, '--metadataFile', metadataFile]\n",
    "result = subprocess.run(CMD_ROOT + args, capture_output=True, text=True)\n",
    "print(result.stderr)\n",
    "pretty_print(result.stdout)\n",
    "\n"
   ]
  }
 ],
 "metadata": {
  "kernelspec": {
   "display_name": ".venv",
   "language": "python",
   "name": "python3"
  },
  "language_info": {
   "codemirror_mode": {
    "name": "ipython",
    "version": 3
   },
   "file_extension": ".py",
   "mimetype": "text/x-python",
   "name": "python",
   "nbconvert_exporter": "python",
   "pygments_lexer": "ipython3",
   "version": "3.12.3"
  }
 },
 "nbformat": 4,
 "nbformat_minor": 5
}
