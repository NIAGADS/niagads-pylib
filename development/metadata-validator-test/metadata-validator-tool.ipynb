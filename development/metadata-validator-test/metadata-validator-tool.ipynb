{
 "cells": [
  {
   "cell_type": "markdown",
   "id": "562d972b",
   "metadata": {},
   "source": [
    "# Test base/niagads/validate_medatata"
   ]
  },
  {
   "cell_type": "markdown",
   "id": "15f207e2",
   "metadata": {},
   "source": []
  },
  {
   "cell_type": "markdown",
   "id": "4deb2b2c",
   "metadata": {},
   "source": [
    "## Test running the metadata validator tool script directly  \n",
    "\n",
    "> `../../bases/niagads/metadata_validator_tool/core.py`"
   ]
  },
  {
   "cell_type": "code",
   "execution_count": 25,
   "id": "072f292c",
   "metadata": {},
   "outputs": [],
   "source": [
    "# imports / helpers\n",
    "\n",
    "import subprocess\n",
    "import json\n",
    "\n",
    "def pretty_print(resultStr):\n",
    "    resultJson = json.loads(resultStr.replace('running\\n', '').replace('\\\\\"', ''))\n",
    "    print(json.dumps(resultJson, indent=4))\n",
    "    \n",
    "CMD_ROOT = ['python', '../../bases/niagads/metadata_validator_tool/core.py']"
   ]
  },
  {
   "cell_type": "code",
   "execution_count": 26,
   "id": "c101b4d0",
   "metadata": {},
   "outputs": [
    {
     "name": "stdout",
     "output_type": "stream",
     "text": [
      "\n",
      "running\n",
      "usage: core.py [-h] [--template TEMPLATE] --metadataFileType\n",
      "               {BIOSOURCE_PROPERTIES,FILE_MANIFEST} [--log] [--failOnError]\n",
      "               [--schemaDir SCHEMADIR]\n",
      "               [--metadataFilePrefix METADATAFILEPREFIX]\n",
      "               [--metadataFile METADATAFILE] [--schemaFile SCHEMAFILE]\n",
      "               [--idField IDFIELD]\n",
      "\n",
      "This script allows the user validate a sample or file manifest metadata file\n",
      "arranged in tabular format (field names in columns, values in rows) against a\n",
      "JSON-Schema file. Results are piped to STDOUT unless `--log` option is\n",
      "specified. This tool accepts tab separated value files (.tab) as well as excel\n",
      "(.xls, .xlsx) files. This file can also be imported as a module and contains\n",
      "the following functions / tyes: * MetadataValidatorType - enum of types of\n",
      "expected metadata files * initialize_validator - returns an initialized\n",
      "BiosourcePropertiesValidator or FileManifestValidator *\n",
      "get_templated_schema_file - builds schema file name and verifies that file\n",
      "exists * get_templated_metadata_file - builds metadata file name and verifies\n",
      "that file exists * run - initializes a validator and runs the validaton\n",
      "\n",
      "options:\n",
      "  -h, --help            show this help message and exit\n",
      "  --template TEMPLATE   template name for schema; assumes also metadata file\n",
      "                        matches template pattern\n",
      "  --metadataFileType {BIOSOURCE_PROPERTIES,FILE_MANIFEST}\n",
      "                        type of metadata file\n",
      "  --log                 log results to <metadataFile>.log; otherwise pipes to\n",
      "                        STDOUT\n",
      "  --failOnError         fail on first error; otherwise complete validation and\n",
      "                        generate a list of errors/warnings\n",
      "  --schemaDir SCHEMADIR\n",
      "                        full path to directory containing schema files; if not\n",
      "                        specified assumes current working directory; required\n",
      "                        when `--template` is specified\n",
      "  --metadataFilePrefix METADATAFILEPREFIX\n",
      "                        full path and optional prefix for the templated\n",
      "                        metadata file; required when `--template` is\n",
      "                        specified; e.g. /files/SA99914/TMP_SSA99914_D1_E2-; if\n",
      "                        not specified assumes files are name `template.ext`\n",
      "                        and located in current working directory\n",
      "  --metadataFile METADATAFILE\n",
      "                        full path to metadata file; required when no template\n",
      "                        is specified\n",
      "  --schemaFile SCHEMAFILE\n",
      "                        full path to schema file;required when no template is\n",
      "                        specified\n",
      "  --idField IDFIELD     Biosample or participant id field label; required if\n",
      "                        `--metadataType = BIOSOURCE_PROPERTIES`\n",
      "\n"
     ]
    }
   ],
   "source": [
    "# print the usage \n",
    "result = subprocess.run(CMD_ROOT + ['--help'], capture_output=True, text=True)\n",
    "print(result.stderr)\n",
    "print(result.stdout)"
   ]
  },
  {
   "cell_type": "code",
   "execution_count": 27,
   "id": "8ba55188",
   "metadata": {},
   "outputs": [
    {
     "name": "stdout",
     "output_type": "stream",
     "text": [
      "\n",
      "running\n",
      "{\"errors\": []}\n",
      "\n"
     ]
    }
   ],
   "source": [
    "# file manifest test\n",
    "\n",
    "schemaFile = './schemas/file_manifest.json'\n",
    "metadataFile = './examples/test_file_manifest.tab'\n",
    "args = ['--metadataFileType', 'file_manifest', '--schemaFile', schemaFile, '--metadataFile', metadataFile]\n",
    "result = subprocess.run(CMD_ROOT + args, capture_output=True, text=True)\n",
    "print(result.stderr)\n",
    "print(result.stdout)"
   ]
  },
  {
   "cell_type": "code",
   "execution_count": 28,
   "id": "041cfabe",
   "metadata": {},
   "outputs": [
    {
     "name": "stdout",
     "output_type": "stream",
     "text": [
      "\n",
      "{\n",
      "    \"errors\": [\n",
      "        {\n",
      "            \"1\": [\n",
      "                \"'c6779ec2960296ed9a8d67f64422' does not match '^[a-fA-F0-9]{32}$'\"\n",
      "            ]\n",
      "        },\n",
      "        {\n",
      "            \"6\": [\n",
      "                \"required field `sample_id` cannot be empty / null\"\n",
      "            ]\n",
      "        }\n",
      "    ]\n",
      "}\n"
     ]
    }
   ],
   "source": [
    "# file manifest with errors test\n",
    "\n",
    "schemaFile = './schemas/file_manifest.json'\n",
    "metadataFile = './examples/test_file_manifest_with_errors.tab'\n",
    "args = ['--metadataFileType', 'file_manifest',  '--schemaFile', schemaFile, '--metadataFile', metadataFile]\n",
    "result = subprocess.run(CMD_ROOT + args, capture_output=True, text=True)\n",
    "print(result.stderr)\n",
    "pretty_print(result.stdout)"
   ]
  },
  {
   "cell_type": "code",
   "execution_count": 29,
   "id": "0f5ec3a4",
   "metadata": {},
   "outputs": [
    {
     "name": "stdout",
     "output_type": "stream",
     "text": [
      "\n",
      "{\n",
      "    \"errors\": []\n",
      "}\n"
     ]
    }
   ],
   "source": [
    "# templated file manifest\n",
    "\n",
    "schemaDir = 'schemas'\n",
    "pattern = 'examples/test_'\n",
    "args = ['--metadataFileType', 'file_manifest', '--template', 'file_manifest', '--schemaDir', schemaDir, '--metadataFilePrefix', pattern]\n",
    "result = subprocess.run(CMD_ROOT + args, capture_output=True, text=True)\n",
    "print(result.stderr)\n",
    "pretty_print(result.stdout)"
   ]
  },
  {
   "cell_type": "code",
   "execution_count": 30,
   "id": "fba5bacb",
   "metadata": {},
   "outputs": [
    {
     "name": "stdout",
     "output_type": "stream",
     "text": [
      "\n",
      "{\n",
      "    \"errors\": []\n",
      "}\n"
     ]
    }
   ],
   "source": [
    "# templated participant info file\n",
    "\n",
    "schemaDir = 'schemas'\n",
    "pattern = 'examples/test_'\n",
    "idField = 'participant_id'\n",
    "args = ['--metadataFileType', 'biosource_properties', \n",
    "    '--template', 'participant_info', \n",
    "    '--schemaDir', schemaDir, \n",
    "    '--metadataFilePrefix', pattern,\n",
    "    '--idField', idField\n",
    "    ]\n",
    "result = subprocess.run(CMD_ROOT + args, capture_output=True, text=True)\n",
    "print(result.stderr)\n",
    "pretty_print(result.stdout)"
   ]
  },
  {
   "cell_type": "markdown",
   "id": "0405a926",
   "metadata": {},
   "source": [
    "## Test as an imported package\n",
    "\n",
    "```python\n",
    "import niagads.metadata_validator_tool.core\n",
    "```"
   ]
  },
  {
   "cell_type": "code",
   "execution_count": 31,
   "id": "8cb55bfb",
   "metadata": {},
   "outputs": [
    {
     "name": "stdout",
     "output_type": "stream",
     "text": [
      "Schema File: schemas/participant_info.json\n",
      "Metadata File: examples/test_participant_info.tab\n",
      "Straight Run result: {'errors': []}\n",
      "Validator type: <class 'niagads.metadata_validator.core.BiosourcePropertiesValidator'>\n",
      "Schema: schemas/participant_info.json\n",
      "Parsed Metadata: [\n",
      "    {\n",
      "        \"participant_id\": \"DONOR1\",\n",
      "        \"cohort\": \"KNIGHT-ADRC\",\n",
      "        \"consent\": null,\n",
      "        \"sex\": \"Male\",\n",
      "        \"race\": \"Asian\",\n",
      "        \"ethnicity\": \"Hispanic or Latino\",\n",
      "        \"diagnosis\": null,\n",
      "        \"disease\": \"AD\",\n",
      "        \"APOE\": null,\n",
      "        \"comment\": \"clinical diagnosis\"\n",
      "    },\n",
      "    {\n",
      "        \"participant_id\": \"DONOR2\",\n",
      "        \"cohort\": \"ROSMAP\",\n",
      "        \"consent\": null,\n",
      "        \"sex\": \"Female\",\n",
      "        \"race\": \"White\",\n",
      "        \"ethnicity\": \"Not Hispanic or Latino\",\n",
      "        \"diagnosis\": null,\n",
      "        \"disease\": \"AD\",\n",
      "        \"APOE\": null,\n",
      "        \"comment\": null\n",
      "    },\n",
      "    {\n",
      "        \"participant_id\": \"DONOR3\",\n",
      "        \"cohort\": \"KNIGHT-ADRC\",\n",
      "        \"consent\": null,\n",
      "        \"sex\": \"Male\",\n",
      "        \"race\": \"White\",\n",
      "        \"ethnicity\": \"Hispanic or Latino\",\n",
      "        \"diagnosis\": null,\n",
      "        \"disease\": \"AD\",\n",
      "        \"APOE\": null,\n",
      "        \"comment\": null\n",
      "    },\n",
      "    {\n",
      "        \"participant_id\": \"DONOR4\",\n",
      "        \"cohort\": \"KNIGHT-ADRC\",\n",
      "        \"consent\": null,\n",
      "        \"sex\": \"Not reported\",\n",
      "        \"race\": null,\n",
      "        \"ethnicity\": \"Not Hispanic or Latino\",\n",
      "        \"diagnosis\": null,\n",
      "        \"disease\": null,\n",
      "        \"APOE\": null,\n",
      "        \"comment\": null\n",
      "    },\n",
      "    {\n",
      "        \"participant_id\": \"DONOR5\",\n",
      "        \"cohort\": \"ROSMAP\",\n",
      "        \"consent\": null,\n",
      "        \"sex\": null,\n",
      "        \"race\": \"Asian\",\n",
      "        \"ethnicity\": \"Not reported\",\n",
      "        \"diagnosis\": null,\n",
      "        \"disease\": null,\n",
      "        \"APOE\": null,\n",
      "        \"comment\": null\n",
      "    }\n",
      "]\n",
      "Biosource IDs: ['DONOR1', 'DONOR2', 'DONOR3', 'DONOR4', 'DONOR5']\n",
      "Race: ['Asian', 'White', 'White', None, 'Asian']\n",
      "Validation Result: {'errors': []}\n"
     ]
    }
   ],
   "source": [
    "import niagads.metadata_validator_tool.core as vm\n",
    "\n",
    "schemaDir = 'schemas'\n",
    "pattern = 'examples/test_'\n",
    "idField = 'participant_id'\n",
    "template = 'participant_info'\n",
    "\n",
    "# get files from template and path variables\n",
    "schemaFile = vm.get_templated_schema_file(schemaDir, template)\n",
    "print(f'Schema File: {schemaFile}')\n",
    "\n",
    "metadataFile = vm.get_templated_metadata_file(pattern, template)\n",
    "print(f'Metadata File: {metadataFile}')\n",
    "\n",
    "# straight run\n",
    "validationResult = vm.run(metadataFile, schemaFile, 'biosource_properties', idField)\n",
    "print(f'Straight Run result: {validationResult}')\n",
    "\n",
    "# get an initialized validator object\n",
    "validator = vm.initialize_validator(metadataFile, schemaFile, 'biosource_properties', idField)\n",
    "print(f'Validator type: {type(validator)}')\n",
    "print(f'Schema: {validator.get_schema()}')\n",
    "print(f'Parsed Metadata: {json.dumps(validator.get_metadata(), indent=4)}')\n",
    "print(f'Biosource IDs: {validator.get_biosource_ids()}')\n",
    "print(f'Race: {validator.get_field_values('race')}')\n",
    "validationResult = validator.run()\n",
    "print(f'Validation Result: {validationResult}')"
   ]
  },
  {
   "cell_type": "markdown",
   "id": "2721dd6f",
   "metadata": {},
   "source": [
    "## Test dss-metadata-validator script\n",
    "`/scripts/dss_metadata_validator.py`"
   ]
  },
  {
   "cell_type": "code",
   "execution_count": null,
   "id": "29979cd0",
   "metadata": {},
   "outputs": [
    {
     "name": "stdout",
     "output_type": "stream",
     "text": [
      "\n",
      "{\n",
      "    \"participant_info\": {\n",
      "        \"errors\": []\n",
      "    },\n",
      "    \"sample_info\": {\n",
      "        \"errors\": [\n",
      "            {\n",
      "                \"invalid_PARTICIPANT_ID\": [\n",
      "                    \"DONOR7\"\n",
      "                ]\n",
      "            }\n",
      "        ],\n",
      "        \"warnings\": [\n",
      "            {\n",
      "                \"missing_PARTICIPANT_ID\": [\n",
      "                    \"DONOR5\"\n",
      "                ]\n",
      "            }\n",
      "        ]\n",
      "    },\n",
      "    \"file_manifest\": {\n",
      "        \"errors\": []\n",
      "    }\n",
      "}\n"
     ]
    }
   ],
   "source": [
    "# dss validation\n",
    "schemaDir = './schemas'\n",
    "filePrefix = './examples/test_'\n",
    "cmd = ['python', './scripts/dss_metadata_validator.py']\n",
    "args = ['--schemaDir', schemaDir, '--metadataFilePrefix', filePrefix]\n",
    "result = subprocess.run(cmd + args, capture_output=True, text=True)\n",
    "print(result.stderr)\n",
    "pretty_print(result.stdout)"
   ]
  }
 ],
 "metadata": {
  "kernelspec": {
   "display_name": ".venv",
   "language": "python",
   "name": "python3"
  },
  "language_info": {
   "codemirror_mode": {
    "name": "ipython",
    "version": 3
   },
   "file_extension": ".py",
   "mimetype": "text/x-python",
   "name": "python",
   "nbconvert_exporter": "python",
   "pygments_lexer": "ipython3",
   "version": "3.12.3"
  }
 },
 "nbformat": 4,
 "nbformat_minor": 5
}
