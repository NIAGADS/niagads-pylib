{
 "cells": [
  {
   "cell_type": "code",
   "execution_count": null,
   "id": "ccd42f79",
   "metadata": {},
   "outputs": [
    {
     "name": "stdout",
     "output_type": "stream",
     "text": [
      "['GENE', 'VARIANT', 'STRUCTURAL_VARIANT', 'SPAN']\n",
      "'GRCh37', 'GRCh38', 'hg19', 'hg38'\n"
     ]
    }
   ],
   "source": [
    "from sqlalchemy.schema import CreateTable\n",
    "from niagads.track_record.core import Track\n",
    "    \n",
    "print(CreateTable(table))"
   ]
  }
 ],
 "metadata": {
  "kernelspec": {
   "display_name": ".venv",
   "language": "python",
   "name": "python3"
  },
  "language_info": {
   "codemirror_mode": {
    "name": "ipython",
    "version": 3
   },
   "file_extension": ".py",
   "mimetype": "text/x-python",
   "name": "python",
   "nbconvert_exporter": "python",
   "pygments_lexer": "ipython3",
   "version": "3.12.9"
  }
 },
 "nbformat": 4,
 "nbformat_minor": 5
}
