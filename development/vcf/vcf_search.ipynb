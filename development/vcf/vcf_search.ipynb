{
 "cells": [
  {
   "cell_type": "code",
   "execution_count": null,
   "id": "35200eeb",
   "metadata": {},
   "outputs": [],
   "source": []
  },
  {
   "cell_type": "code",
   "execution_count": 4,
   "id": "94a943ee",
   "metadata": {},
   "outputs": [
    {
     "name": "stdout",
     "output_type": "stream",
     "text": [
      "28\n",
      "{'chrom': 'chr2', 'pos': 24470157, 'id': '2:24470157:G:A', 'ref': 'G', 'alt': 'A', 'qual': '.', 'filter': '.', 'info': {'TEST_ALLELE': 'A', 'PVALUE': 0.01054, 'NEG_LOG10_PVALUE': 1.977159, 'ANNOTATION': {'variant_class': 'single nucleotide variant', 'display_allele': 'G>A', 'is_adsp_variant': True, 'variant_class_abbrev': 'SNV', 'most_severe_consequence': {'conseq': 'intergenic variant', 'impact': 'MODIFIER', 'is_coding': False, 'codon_change': None, 'impacted_gene': None, 'amino_acid_change': None, 'impacted_gene_symbol': None}}, 'RS_ID': 'rs72847424', 'RESTRICTED_STATS': {'beta': 0.0786, 'std_err': 0.0307, 'test_allele_freq': None}}, 'format': '.'}\n"
     ]
    },
    {
     "name": "stderr",
     "output_type": "stream",
     "text": [
      "[W::vcf_parse_info] INFO 'TEST_ALLELE' is not defined in the header, assuming Type=String\n",
      "[W::vcf_parse_info] INFO 'PVALUE' is not defined in the header, assuming Type=String\n",
      "[W::vcf_parse_info] INFO 'NEG_LOG10_PVALUE' is not defined in the header, assuming Type=String\n",
      "[W::vcf_parse_info] INFO 'ANNOTATION' is not defined in the header, assuming Type=String\n",
      "[W::vcf_parse_info] INFO 'RS_ID' is not defined in the header, assuming Type=String\n",
      "[W::vcf_parse_info] INFO 'RESTRICTED_STATS' is not defined in the header, assuming Type=String\n",
      "[W::vcf_parse_info] INFO 'ADJUSTED' is not defined in the header, assuming Type=String\n"
     ]
    }
   ],
   "source": [
    "from niagads.vcf.search import search_vcf_file\n",
    "\n",
    "file = '/home/allenem/wsl-share/NG00036_GRCh38_STAGE12_full.vcf.gz'\n",
    "# chrm = 'chr1'\n",
    "chrm = 2\n",
    "start = 23324490\n",
    "end = start + 10000000\n",
    "\n",
    "results = search_vcf_file(file, chrm, start, end)\n",
    "print(len(results))\n",
    "print(f\"{results[0].model_dump()}\")"
   ]
  }
 ],
 "metadata": {
  "kernelspec": {
   "display_name": ".venv",
   "language": "python",
   "name": "python3"
  },
  "language_info": {
   "codemirror_mode": {
    "name": "ipython",
    "version": 3
   },
   "file_extension": ".py",
   "mimetype": "text/x-python",
   "name": "python",
   "nbconvert_exporter": "python",
   "pygments_lexer": "ipython3",
   "version": "3.12.3"
  }
 },
 "nbformat": 4,
 "nbformat_minor": 5
}
