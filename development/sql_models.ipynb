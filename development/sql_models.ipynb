{
 "cells": [
  {
   "cell_type": "code",
   "execution_count": 3,
   "id": "ccd42f79",
   "metadata": {},
   "outputs": [
    {
     "name": "stdout",
     "output_type": "stream",
     "text": [
      "\n",
      "CREATE TABLE track.metadataentry (\n",
      "\tmetadata_entry_id INTEGER NOT NULL, \n",
      "\ttrack_id VARCHAR NOT NULL, \n",
      "\tdata_store VARCHAR(8) NOT NULL, \n",
      "\tname VARCHAR NOT NULL, \n",
      "\tdescription VARCHAR(2000) NOT NULL, \n",
      "\tgenome_build VARCHAR(6) NOT NULL, \n",
      "\tfeature_type VARCHAR(50) NOT NULL, \n",
      "\tis_download_only BOOLEAN NOT NULL, \n",
      "\tsearchable_text TEXT NOT NULL, \n",
      "\tis_shard BOOLEAN, \n",
      "\tshard_root_track_id VARCHAR, \n",
      "\tbiosample_characteristics JSONB NOT NULL, \n",
      "\texperimental_design JSONB NOT NULL, \n",
      "\tprovenance JSONB NOT NULL, \n",
      "\tproperties JSONB NOT NULL, \n",
      "\tPRIMARY KEY (metadata_entry_id), \n",
      "\tCONSTRAINT check_genome_build CHECK (genome_build in ('GRCh37', 'GRCh38', 'hg19', 'hg38')), \n",
      "\tCONSTRAINT check_data_store CHECK (data_store in ('GENOMICS', 'FILER', 'SHARED'))\n",
      ")\n",
      "\n",
      "\n"
     ]
    }
   ],
   "source": [
    "from sqlalchemy.schema import CreateTable\n",
    "from niagads.database_models.track import Track\n",
    "\n",
    "print(CreateTable(Track.__table__))\n"
   ]
  },
  {
   "cell_type": "code",
   "execution_count": 2,
   "id": "9f31a102",
   "metadata": {},
   "outputs": [
    {
     "data": {
      "text/plain": [
       "['GENOMICS', 'FILER', 'SHARED']"
      ]
     },
     "execution_count": 2,
     "metadata": {},
     "output_type": "execute_result"
    }
   ],
   "source": [
    "from niagads.database_models.track.properties import TrackDataStore\n",
    "\n",
    "TrackDataStore.list()"
   ]
  }
 ],
 "metadata": {
  "kernelspec": {
   "display_name": ".venv",
   "language": "python",
   "name": "python3"
  },
  "language_info": {
   "codemirror_mode": {
    "name": "ipython",
    "version": 3
   },
   "file_extension": ".py",
   "mimetype": "text/x-python",
   "name": "python",
   "nbconvert_exporter": "python",
   "pygments_lexer": "ipython3",
   "version": "3.12.3"
  }
 },
 "nbformat": 4,
 "nbformat_minor": 5
}
