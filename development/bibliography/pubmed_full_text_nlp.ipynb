{
 "cells": [
  {
   "cell_type": "markdown",
   "id": "e6a72f3f",
   "metadata": {},
   "source": [
    "# PubMed Open Access Alzheimer's Disease Articles: Query and NLP Augmented Parsing Example\n",
    "\n",
    "This notebook demonstrates how to use the `PubMedQueryService` and `PMCFullTextParser` classes to:\n",
    "- Search PubMed for open access articles related to Alzheimer's disease (MeSH term) from the past 10 years\n",
    "- Fetch article metadata\n",
    "- Filter articles by keywords\n",
    "- Retrieve full text from PMC\n",
    "- Parse and extract tables, sections, and figures from full text XML\n"
   ]
  },
  {
   "cell_type": "markdown",
   "id": "30c5ef15",
   "metadata": {},
   "source": [
    "## 1. Import Required Libraries\n",
    "\n",
    "Import aiohttp, asyncio, and the PubMedQueryService and PMCFullTextParser classes from your codebase."
   ]
  },
  {
   "cell_type": "code",
   "execution_count": null,
   "id": "5b358596",
   "metadata": {},
   "outputs": [],
   "source": [
    "from datetime import datetime\n",
    "from niagads.pubmed.services import PubMedQueryService, PubMedQueryFilters\n",
    "from niagads.pubmed.parsers import PMCFullTextParser"
   ]
  },
  {
   "cell_type": "markdown",
   "id": "fcde273a",
   "metadata": {},
   "source": [
    "## 2. Initialize PubMedQueryService\n",
    "\n",
    "Create an instance of PubMedQueryService. Optionally, provide your email and NCBI API key for higher rate limits."
   ]
  },
  {
   "cell_type": "code",
   "execution_count": null,
   "id": "c23f9d21",
   "metadata": {},
   "outputs": [],
   "source": [
    "# set your email and API key for NCBI from environment variables\n",
    "import os\n",
    "from dotenv import load_dotenv\n",
    "load_dotenv()\n",
    "EMAIL = os.environ.get(\"EMAIL\")  # e.g., 'your.email@example.com'\n",
    "API_KEY = os.environ.get(\"NCBI_API_KEY\")  # e.g., 'your_ncbi_api_key'\n",
    "\n",
    "pubmed_service = PubMedQueryService(email=EMAIL, api_key=API_KEY)"
   ]
  },
  {
   "cell_type": "markdown",
   "id": "03b47b07",
   "metadata": {},
   "source": [
    "## 3. Search PubMed for Articles (Current Year Only)\n",
    "\n",
    "Search for open access PubMed articles with the MeSH term 'Alzheimer Disease' for the current year only. This step is simplified to fetch all PMIDs for the current year."
   ]
  },
  {
   "cell_type": "code",
   "execution_count": 6,
   "id": "983ea12c",
   "metadata": {},
   "outputs": [
    {
     "name": "stdout",
     "output_type": "stream",
     "text": [
      "2025: 96 articles found\n",
      "Total PMIDs found: 96 (should match count: 96)\n",
      "Total PMIDs found: 96 (should match count: 96)\n"
     ]
    }
   ],
   "source": [
    "# Search for open access Alzheimer's disease genetics articles (MeSH) for the current year only\n",
    "mesh_term = [\"Alzheimer Disease\", \"Genetics\"]\n",
    "current_year = datetime.now().year\n",
    "\n",
    "# Get article count for the current year\n",
    "count = await pubmed_service.find_articles(\n",
    "    filters=PubMedQueryFilters(\n",
    "        keyword=None,\n",
    "        year=current_year,\n",
    "        mesh_term=mesh_term,\n",
    "        open_access_only=True\n",
    "    ),\n",
    "    counts_only=True\n",
    ")\n",
    "print(f\"{current_year}: {count} articles found\")\n",
    "\n",
    "# Fetch all PMIDs for the current year (if any)\n",
    "if count > 0:\n",
    "    all_pmids = await pubmed_service.find_articles(\n",
    "        filters=PubMedQueryFilters(\n",
    "            keyword=None,\n",
    "            year=current_year,\n",
    "            mesh_term=mesh_term,\n",
    "            open_access_only=True\n",
    "        ),\n",
    "        max_results=count,\n",
    "        ids_only=True\n",
    "    )\n",
    "    print(f\"Total PMIDs found: {len(all_pmids)} (should match count: {count})\")\n",
    "else:\n",
    "    all_pmids = []\n",
    "    print(\"No articles found for the current year.\")"
   ]
  },
  {
   "cell_type": "markdown",
   "id": "c0b71f1a",
   "metadata": {},
   "source": [
    "## 4. Plot Distribution of Number of Articles per Year\n",
    "\n",
    "Visualize the number of open access PubMed articles found per year using a bar plot."
   ]
  },
  {
   "cell_type": "code",
   "execution_count": null,
   "id": "18a648ad",
   "metadata": {},
   "outputs": [],
   "source": [
    "# Plot the distribution of number of articles per year (interactive with Plotly)\n",
    "import plotly.express as px\n",
    "\n",
    "fig = px.bar(x=year_range, y=counts, labels={'x': 'Year', 'y': 'Number of Articles'},\n",
    "             title='Number of Open Access PubMed Articles per Year')\n",
    "fig.show()"
   ]
  },
  {
   "cell_type": "markdown",
   "id": "cfe5a20b",
   "metadata": {},
   "source": [
    "## 5. Fetch Article Metadata\n",
    "\n",
    "Fetch metadata (title, abstract, authors, etc.) for the PMIDs found in the previous step."
   ]
  },
  {
   "cell_type": "code",
   "execution_count": null,
   "id": "be340e7c",
   "metadata": {},
   "outputs": [],
   "source": [
    "# Fetch metadata for the first 20 PMIDs as a sample\n",
    "sample_pmids = all_pmids[:20]\n",
    "\n",
    "async def fetch_sample_metadata():\n",
    "    metadata = await pubmed_service.fetch_article_metadata(sample_pmids)\n",
    "    print(f\"Fetched metadata for {len(metadata)} articles.\")\n",
    "    for article in metadata:\n",
    "        print(f\"PMID: {article.pmid}\")\n",
    "        print(f\"Title: {article.title}\")\n",
    "        print(f\"Year: {article.year}\")\n",
    "        print(f\"Journal: {article.journal}\")\n",
    "        print(f\"Authors: {[a.last for a in article.authors]}\")\n",
    "        print(f\"Abstract: {article.abstract[:200] if article.abstract else ''}...\\n\")\n",
    "    return metadata\n",
    "\n",
    "sample_metadata = await fetch_sample_metadata()"
   ]
  },
  {
   "cell_type": "markdown",
   "id": "09bd0109",
   "metadata": {},
   "source": [
    "## 6. Filter Articles by Keywords\n",
    "\n",
    "Filter the fetched articles by keywords in the title or abstract (e.g., 'amyloid', 'tau')."
   ]
  },
  {
   "cell_type": "code",
   "execution_count": null,
   "id": "07a7e5be",
   "metadata": {},
   "outputs": [],
   "source": [
    "# Filter articles by keywords in title or abstract\n",
    "keywords = [\"amyloid\", \"tau\"]\n",
    "filtered_articles = PubMedQueryService.filter_articles_by_keywords(sample_metadata, keywords)\n",
    "\n",
    "print(f\"Articles matching keywords {keywords}: {len(filtered_articles)}\")\n",
    "for article in filtered_articles:\n",
    "    print(f\"PMID: {article.pmid} | Title: {article.title}\")"
   ]
  },
  {
   "cell_type": "markdown",
   "id": "b3631c79",
   "metadata": {},
   "source": [
    "## 7. Fetch Full Text for Selected PMIDs\n",
    "\n",
    "Fetch full text XML for selected PMIDs from the PMC Open Access subset."
   ]
  },
  {
   "cell_type": "code",
   "execution_count": null,
   "id": "2a2cb77c",
   "metadata": {},
   "outputs": [],
   "source": [
    "# Fetch full text for the first filtered article (if available)\n",
    "if filtered_articles:\n",
    "    pmid = filtered_articles[0]['pmid']\n",
    "    full_text_results = await pubmed_service.fetch_full_text([pmid])\n",
    "    full_text_xml = full_text_results[0]['full_text'] if full_text_results and full_text_results[0]['full_text'] else None\n",
    "    print(f\"Fetched full text for PMID {pmid}: {bool(full_text_xml)}\")\n",
    "else:\n",
    "    full_text_xml = None\n",
    "    print(\"No filtered articles available for full text fetch.\")"
   ]
  },
  {
   "cell_type": "markdown",
   "id": "df9bb6ba",
   "metadata": {},
   "source": [
    "## 8. Parse PMC Full Text XML\n",
    "\n",
    "Create a PMCFullTextParser instance with the full text XML and parse it to extract content."
   ]
  },
  {
   "cell_type": "code",
   "execution_count": null,
   "id": "7abd9b32",
   "metadata": {},
   "outputs": [],
   "source": [
    "# Parse the full text XML if available\n",
    "if full_text_xml:\n",
    "    parser = PMCFullTextParser(full_text_xml)\n",
    "    parser.parse()\n",
    "    print(\"PMC full text parsed.\")\n",
    "else:\n",
    "    parser = None\n",
    "    print(\"No full text XML available to parse.\")"
   ]
  },
  {
   "cell_type": "markdown",
   "id": "064a7fb3",
   "metadata": {},
   "source": [
    "## 9. Extract Tables, Sections, and Figures from Full Text\n",
    "\n",
    "Use PMCFullTextParser methods to extract tables, sections, and figures from the parsed XML."
   ]
  },
  {
   "cell_type": "code",
   "execution_count": null,
   "id": "7b32eaf7",
   "metadata": {},
   "outputs": [],
   "source": [
    "# Extract and display tables, sections, and figures from the parsed PMC full text\n",
    "if parser:\n",
    "    tables = parser.get_tables()\n",
    "    sections = parser.get_sections()\n",
    "    figures = parser.get_figures()\n",
    "    print(f\"Tables found: {len(tables)}\")\n",
    "    print(f\"Sections found: {len(sections)}\")\n",
    "    print(f\"Figures found: {len(figures)}\")\n",
    "    if tables:\n",
    "        print(\"First table:\", tables[0])\n",
    "    if sections:\n",
    "        print(\"First section:\", sections[0])\n",
    "    if figures:\n",
    "        print(\"First figure:\", figures[0])\n",
    "else:\n",
    "    print(\"No parsed PMC full text to extract content from.\")"
   ]
  },
  {
   "cell_type": "markdown",
   "id": "4c11a991",
   "metadata": {},
   "source": [
    "## 10. Extract Specific Sections: Results, Conclusions, Discussion\n",
    "\n",
    "Extract and display only the sections with titles containing 'Results', 'Conclusions', or 'Discussion' from the parsed sections."
   ]
  },
  {
   "cell_type": "code",
   "execution_count": null,
   "id": "cdbbcc5f",
   "metadata": {},
   "outputs": [],
   "source": [
    "# Extract and display 'Results', 'Conclusions', 'Discussion' sections using LLM-based synonym expansion\n",
    "from niagads.nlp_utils.matchers.synonyms import LLMSynonymMatcher, SynonymModel\n",
    "import asyncio\n",
    "if parser:\n",
    "    # Define section titles to extract (case-insensitive)\n",
    "    section_titles = [\"Results\", \"Conclusions\", \"Discussion\"]\n",
    "    # Use LLMSynonymMatcher to get extended list of synonyms for section titles\n",
    "    matcher = LLMSynonymMatcher(section_titles, model=SynonymModel.T5)\n",
    "    extended_synonyms = asyncio.run(matcher.get_extended_synonyms())\n",
    "    print(f\"Section titles + LLM synonyms: {extended_synonyms}\")\n",
    "    # Use parser.get_sections with the extended_synonyms as the titles argument\n",
    "    filtered_sections = parser.get_sections(titles=list(extended_synonyms))\n",
    "    print(f\"Sections matching {section_titles} (with LLM synonyms): {len(filtered_sections)}\")\n",
    "    for sec in filtered_sections:\n",
    "        print(f\"Title: {sec['title']}\")\n",
    "        print(f\"Text: {sec['text'][:500]}...\\n\")\n",
    "else:\n",
    "    print(\"No parsed PMC full text to extract specific sections from.\")"
   ]
  },
  {
   "cell_type": "markdown",
   "id": "dfc9729e",
   "metadata": {},
   "source": [
    "## 11. Extract Gene References from Filtered Sections\n",
    "\n",
    "Use the LLM-based gene extractor to identify gene mentions in the filtered sections. This step demonstrates how to apply the `GeneReferenceExtractor` to biomedical text extracted from PMC full text articles."
   ]
  },
  {
   "cell_type": "code",
   "execution_count": null,
   "id": "0f646542",
   "metadata": {},
   "outputs": [],
   "source": [
    "# Extract gene references from the filtered sections using GeneReferenceExtractor\n",
    "from niagads.nlp_utils.extractors.gene import GeneReferenceExtractor, GeneNERModel\n",
    "\n",
    "gene_extractor = GeneReferenceExtractor(model=GeneNERModel.D4DATA)\n",
    "\n",
    "# Combine all filtered section texts into one block for extraction\n",
    "if parser and 'filtered_sections' in locals():\n",
    "    all_section_text = \"\\n\".join(sec['text'] for sec in filtered_sections)\n",
    "    gene_mentions = gene_extractor.extract(all_section_text)\n",
    "    print(f\"Gene mentions found: {gene_mentions}\")\n",
    "else:\n",
    "    print(\"No filtered sections available for gene extraction.\")"
   ]
  },
  {
   "cell_type": "markdown",
   "id": "c3a289bb",
   "metadata": {},
   "source": [
    "## 12. Summarize Gene Contexts in Filtered Sections\n",
    "\n",
    "Use the `TextSummarizer` to generate a summary for each gene, based on the sentences in which it appears in the filtered sections. This provides a concise overview of the context in which each gene is discussed."
   ]
  },
  {
   "cell_type": "code",
   "execution_count": null,
   "id": "2e224293",
   "metadata": {},
   "outputs": [],
   "source": [
    "# Summarize gene contexts using TextSummarizer\n",
    "from niagads.nlp_utils.summarizer import TextSummarizer, SummarizationModel\n",
    "\n",
    "# Extract gene context sentences (per gene) from the filtered sections\n",
    "if parser and 'filtered_sections' in locals():\n",
    "    all_section_text = \"\\n\".join(sec['text'] for sec in filtered_sections)\n",
    "    gene_contexts = gene_extractor.extract_gene_contexts(all_section_text)\n",
    "    summarizer = TextSummarizer(model=SummarizationModel.PEGASUS_PUBMED)\n",
    "    gene_summaries = summarizer.summarize(gene_contexts)\n",
    "    for gene, summary in gene_summaries.items():\n",
    "        print(f\"Gene: {gene}\\nSummary: {summary}\\n\")\n",
    "else:\n",
    "    print(\"No filtered sections available for gene context summarization.\")"
   ]
  }
 ],
 "metadata": {
  "kernelspec": {
   "display_name": ".venv",
   "language": "python",
   "name": "python3"
  },
  "language_info": {
   "codemirror_mode": {
    "name": "ipython",
    "version": 3
   },
   "file_extension": ".py",
   "mimetype": "text/x-python",
   "name": "python",
   "nbconvert_exporter": "python",
   "pygments_lexer": "ipython3",
   "version": "3.12.3"
  }
 },
 "nbformat": 4,
 "nbformat_minor": 5
}
