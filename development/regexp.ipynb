{
 "cells": [
  {
   "cell_type": "markdown",
   "id": "5b04fdbf",
   "metadata": {},
   "source": [
    "# Regular Expression Testing Notebook\n",
    "\n",
    "This notebook provides a framework for testing regular expressions from the `RegularExpressions` enum. You can use it to verify that any regexp correctly matches valid strings and rejects invalid ones. The current example demonstrates testing the `CYTOGENIC_LOCATION` regular expression, but you can adapt the notebook to test any pattern by changing the pattern and test cases."
   ]
  },
  {
   "cell_type": "code",
   "execution_count": 1,
   "id": "b3358e92",
   "metadata": {},
   "outputs": [],
   "source": [
    "import re\n",
    "from niagads.utils.regular_expressions import RegularExpressions"
   ]
  },
  {
   "cell_type": "code",
   "execution_count": 2,
   "id": "251c555c",
   "metadata": {},
   "outputs": [
    {
     "name": "stdout",
     "output_type": "stream",
     "text": [
      "Cytogenic location regexp: ^(chr)?(\\d{1,2}|X|Y|M|MT)(p|q)(\\d{1,2}(\\.\\d+)?)(-(p|q)?\\d{1,2}(\\.\\d+)?)?$\n"
     ]
    }
   ],
   "source": [
    "cytogenic_pattern = re.compile(RegularExpressions.CYTOGENIC_LOCATION)\n",
    "print(f\"Cytogenic location regexp: {RegularExpressions.CYTOGENIC_LOCATION}\")"
   ]
  },
  {
   "cell_type": "code",
   "execution_count": 3,
   "id": "5b3ad6a0",
   "metadata": {},
   "outputs": [],
   "source": [
    "# Valid cytogenic locations\n",
    "valid_cases = [\n",
    "    \"1p36.33\",\n",
    "    \"chr2q21\",\n",
    "    \"Xq28\",\n",
    "    \"7q11.23-q21.11\",\n",
    "    \"chrYp11.2\",\n",
    "    \"MTq1.1\",\n",
    "    \"12p13.31-p13.2\",\n",
    "    \"chr3p21.31-p21.1\"\n",
    "]\n",
    "\n",
    "# Invalid cytogenic locations\n",
    "invalid_cases = [\n",
    "    \"M\",\n",
    "    \"chr1q\",\n",
    "    \"1q\",\n",
    "    \"chr1p36.33-1p36.32\",\n",
    "    \"chr1p36.33-\",\n",
    "    \"1p\",\n",
    "    \"chr1p36.33.1\"\n",
    "]"
   ]
  },
  {
   "cell_type": "code",
   "execution_count": 4,
   "id": "3534cc57",
   "metadata": {},
   "outputs": [],
   "source": [
    "def test_cytogenic_cases(pattern, cases, expected=True):\n",
    "    results = []\n",
    "    for case in cases:\n",
    "        match = bool(pattern.match(case))\n",
    "        results.append((case, match == expected, match))\n",
    "    return results\n",
    "\n",
    "valid_results = test_cytogenic_cases(cytogenic_pattern, valid_cases, expected=True)\n",
    "invalid_results = test_cytogenic_cases(cytogenic_pattern, invalid_cases, expected=False)"
   ]
  },
  {
   "cell_type": "code",
   "execution_count": 5,
   "id": "f0425332",
   "metadata": {},
   "outputs": [
    {
     "name": "stdout",
     "output_type": "stream",
     "text": [
      "Valid cytogenic location test results:\n",
      "  '1p36.33': PASS (matched=True)\n",
      "  'chr2q21': PASS (matched=True)\n",
      "  'Xq28': PASS (matched=True)\n",
      "  '7q11.23-q21.11': PASS (matched=True)\n",
      "  'chrYp11.2': PASS (matched=True)\n",
      "  'MTq1.1': PASS (matched=True)\n",
      "  '12p13.31-p13.2': PASS (matched=True)\n",
      "  'chr3p21.31-p21.1': PASS (matched=True)\n",
      "\n",
      "Invalid cytogenic location test results:\n",
      "  'M': PASS (matched=False)\n",
      "  'chr1q': PASS (matched=False)\n",
      "  '1q': PASS (matched=False)\n",
      "  'chr1p36.33-1p36.32': PASS (matched=False)\n",
      "  'chr1p36.33-': PASS (matched=False)\n",
      "  '1p': PASS (matched=False)\n",
      "  'chr1p36.33.1': PASS (matched=False)\n"
     ]
    }
   ],
   "source": [
    "print(\"Valid cytogenic location test results:\")\n",
    "for case, passed, matched in valid_results:\n",
    "    print(f\"  {case!r}: {'PASS' if passed else 'FAIL'} (matched={matched})\")\n",
    "\n",
    "print(\"\\nInvalid cytogenic location test results:\")\n",
    "for case, passed, matched in invalid_results:\n",
    "    print(f\"  {case!r}: {'PASS' if passed else 'FAIL'} (matched={matched})\")"
   ]
  }
 ],
 "metadata": {
  "kernelspec": {
   "display_name": ".venv",
   "language": "python",
   "name": "python3"
  },
  "language_info": {
   "codemirror_mode": {
    "name": "ipython",
    "version": 3
   },
   "file_extension": ".py",
   "mimetype": "text/x-python",
   "name": "python",
   "nbconvert_exporter": "python",
   "pygments_lexer": "ipython3",
   "version": "3.12.9"
  }
 },
 "nbformat": 4,
 "nbformat_minor": 5
}
