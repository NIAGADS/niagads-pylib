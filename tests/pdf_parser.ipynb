{
 "cells": [
  {
   "cell_type": "markdown",
   "id": "a746acea",
   "metadata": {},
   "source": [
    "# alternative models that can handle more tokens \n",
    "* GPT-2: 1024 tokens\n",
    "* EleutherAI/gpt-neo-2.7B: 2048 tokens\n",
    "* bigscience/bloom: 2048 tokens (for smaller models)"
   ]
  },
  {
   "cell_type": "code",
   "execution_count": 1,
   "id": "6a061057",
   "metadata": {},
   "outputs": [
    {
     "name": "stderr",
     "output_type": "stream",
     "text": [
      "Device set to use cuda:0\n"
     ]
    }
   ],
   "source": [
    "from scripts.pdf_parser import PDFParser\n",
    "\n",
    "parser = PDFParser(\"./pdfs/alz-13509.pdf\", model=\"gpt2\", maxTokens=512)\n",
    "# bigParser = PDFParser(\"./pdfs/alz-13509.pdf\", model=\"EleutherAI/gpt-neo-2.7B\", maxTokens=2048)"
   ]
  },
  {
   "cell_type": "code",
   "execution_count": 2,
   "id": "cdfb8e0d",
   "metadata": {},
   "outputs": [
    {
     "name": "stdout",
     "output_type": "stream",
     "text": [
      "Received: 2 June 2023 Revised: 25 August 2023 Accepted: 21 September 2023\n",
      "DOI: 10.1002/alz.13509\n",
      "RESEARCH ARTICLE\n",
      "NIAGADS Alzheimer’s GenomicsDB: A resource for exploring\n",
      "Alzheimer’s disease genetic and genomic knowledge\n",
      "Emily Greenfest-Allen1,2,3Otto Valladares1,2,3Pavel P. Kuksa1,2,3\n",
      "Prabhakaran Gangadharan1,2,3Wan-Ping Lee1,2,3Jeffrey Cifello1,3\n",
      "Zivadin Katanic1,2,3Amanda B. Kuzma1,2,3Nicholas Wheeler4William S. Bush4\n",
      "Yuk Yee Leung1,2,3Gerard Schellenberg1,2,3Christian J. Stoeckert Jr.2,5\n",
      "Li-\n"
     ]
    }
   ],
   "source": [
    "parser.parse()\n",
    "print(parser.get_text()[:500])"
   ]
  },
  {
   "cell_type": "code",
   "execution_count": 3,
   "id": "39cd56eb",
   "metadata": {},
   "outputs": [
    {
     "data": {
      "text/plain": [
       "16497"
      ]
     },
     "execution_count": 3,
     "metadata": {},
     "output_type": "execute_result"
    }
   ],
   "source": [
    "parser.estimate_required_tokens()"
   ]
  },
  {
   "cell_type": "code",
   "execution_count": null,
   "id": "620543a9",
   "metadata": {},
   "outputs": [],
   "source": [
    "jsonObj = parser.to_json()"
   ]
  },
  {
   "cell_type": "code",
   "execution_count": null,
   "id": "be1e1c68",
   "metadata": {},
   "outputs": [],
   "source": [
    "print(jsonObj)"
   ]
  }
 ],
 "metadata": {
  "kernelspec": {
   "display_name": ".venv",
   "language": "python",
   "name": "python3"
  },
  "language_info": {
   "codemirror_mode": {
    "name": "ipython",
    "version": 3
   },
   "file_extension": ".py",
   "mimetype": "text/x-python",
   "name": "python",
   "nbconvert_exporter": "python",
   "pygments_lexer": "ipython3",
   "version": "3.12.3"
  }
 },
 "nbformat": 4,
 "nbformat_minor": 5
}
