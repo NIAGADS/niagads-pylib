{
 "cells": [
  {
   "cell_type": "markdown",
   "id": "a746acea",
   "metadata": {},
   "source": [
    "### possible hugging face models for text summary\n",
    "\n",
    "### very good; but only small chunks:\n",
    "* google/flan-t5-base; max tokens = 512\n",
    "\n",
    "### larger chunks:\n",
    "* meta-llama/Llama-2-13b-chat; context tokens = 4096\n",
    "* mistralai/Mistral-7B-Instruct-v0.1;  context tokens = 8192 \n",
    "* mistralai/Mixtral-8x7B-Instruct-v0.1;  context tokens = 32768 "
   ]
  },
  {
   "cell_type": "code",
   "execution_count": 1,
   "id": "0280d19d",
   "metadata": {},
   "outputs": [],
   "source": [
    "%load_ext autoreload\n",
    "%autoreload 2"
   ]
  },
  {
   "cell_type": "code",
   "execution_count": 2,
   "id": "6a061057",
   "metadata": {},
   "outputs": [],
   "source": [
    "\n",
    "from scripts.pdf_parser import PDFParser\n",
    "\n",
    "parser = PDFParser(\"./pdfs/alz-13509.pdf\", model=\"mistralai/Mistral-7B-Instruct-v0.1\", tokenLimit=8192)\n",
    "# bigParser = PDFParser(\"./pdfs/alz-13509.pdf\", model=\"EleutherAI/gpt-neo-2.7B\", maxTokens=2048)"
   ]
  },
  {
   "cell_type": "code",
   "execution_count": 3,
   "id": "cdfb8e0d",
   "metadata": {},
   "outputs": [
    {
     "name": "stdout",
     "output_type": "stream",
     "text": [
      "Received: 2 June 2023 Revised: 25 August 2023 Accepted: 21 September 2023\n",
      "DOI: 10.1002/alz.13509\n",
      "RESEARCH ARTICLE\n",
      "NIAGADS Alzheimer’s GenomicsDB: A resource for exploring\n",
      "Alzheimer’s disease genetic and genomic knowledge\n",
      "Emily Greenfest-Allen1,2,3Otto Valladares1,2,3Pavel P. Kuksa1,2,3\n",
      "Prabhakaran Gangadharan1,2,3Wan-Ping Lee1,2,3Jeffrey Cifello1,3\n",
      "Zivadin Katanic1,2,3Amanda B. Kuzma1,2,3Nicholas Wheeler4William S. Bush4\n",
      "Yuk Yee Leung1,2,3Gerard Schellenberg1,2,3Christian J. Stoeckert Jr.2,5\n",
      "Li-San Wang1,2,3\n",
      "1Penn Neurodegeneration Genomics Center, Perelman School of Medicine, University of Pennsylvania, Philadelphia, Pennsylvania, USA\n",
      "2Institute for Biomedical Informatics, Perelman School of Medicine, University of Pennsylvania, Philadelphia, Pennsylvania, USA\n",
      "3Department of Pathology and Laboratory Medicine, Perelman School of Medicine, University of Pennsylvania, Philadelphia, Pennsylvania, USA\n",
      "4Cleveland Institute for Computational Biology, Department of Population and Quantitative Health Sciences, Case Western Reserve University, Clev eland, Ohio, USA\n",
      "5Department of Genetics, Perelman School of Medicine, University of Pennsylvania, Philadelphia, Pennsylvania, USA\n",
      "Correspondence\n",
      "Emily Greenfest-Allen, Institute for Biomedical\n",
      "Informatics, Perelman School of Medicine,\n",
      "University of Pennsylvania, 3700 Hamilton\n",
      "Walk, D103 Richards Medical Research\n",
      "Building, Philadelphia, PA 19104, USA.\n",
      "Email: allenem@pennmedicine.upenn.edu\n",
      "Li-San Wang, Penn Neurodegeneration\n",
      "Genomics Center, Perelman School of\n",
      "Medicine, University of Pennsylvania,\n",
      "Philadelphia, PA 19104, USA.\n",
      "Email: lswang@pennmedicine.upenn.edu\n",
      "Funding information\n",
      "National Institute on Aging, Grant/Award\n",
      "Numbers: U24AG041689, U54AG052427,\n",
      "U01AG032984Abstract\n",
      "INTRODUCTION: The National Institute on Aging Genetics of Alzheimer’s Disease\n",
      "Data Storage Site Alzheimer’s Genomics Database (GenomicsDB) is a public knowl-\n",
      "edge base of Alzheimer’s disease (AD) genetic datasets and genomic annotations.\n",
      "METHODS: GenomicsDB uses a custom systems architecture to adopt and enforce\n",
      "rigorous standards that facilitate harmonization of AD-relevant genome-wide associa-\n",
      "tion study summary statistics datasets with functional annotations, including over 230\n",
      "million annotated variants from the AD Sequencing Project.\n",
      "RESULTS: GenomicsDB generates interactive reports compiled from the harmo-\n",
      "nized datasets and annotations. These reports contextualize AD-risk associations in a\n",
      "broader functional genomic setting and summarize them in the context of functionally\n",
      "annotated genes and variants.\n",
      "DISCUSSION: Created to make AD-genetics knowledge more accessible to AD\n",
      "researchers, the GenomicsDB is designed to guide users unfamiliar with genetic data\n",
      "in not only exploring but also interpreting this ever-growing volume of data. Scalable\n",
      "and interoperable with other genomics resources using data technology standards,\n",
      "the GenomicsDB can serve as a central hub for research and data analysis on AD and\n",
      "related dementias.\n",
      "This is an open access article under the terms of the Creative Commons Attribution-NonCommercial License, which permits use, distribution and reproduction in any\n",
      "medium, provided the original work is properly cited and is not used for commercial purposes.\n",
      "© 2023 The Authors. Alzheimer’s & Dementia published by Wiley Periodicals LLC on behalf of Alzheimer’s Association.\n",
      "Alzheimer’s Dement. 2024;20:1123–1136. wileyonlinelibrary.com/journal/alz 1123\n",
      "1124 GREENFEST-ALLEN ET AL .\n",
      "KEYWORDS\n",
      "Alzheimer’s Disease Sequencing Project, ADSP, Alzheimer’s disease, data sharing, genetic asso-\n",
      "ciations, genetics, genome-wide association study, GWAS, knowledge base, National Institute on\n",
      "Aging Genetics of Alzheimer’s Disease Data Storage Site, NIAGADS\n",
      "Highlights\n",
      "∙The National Institute on Aging Genetics of Alzheimer’s Disease Data Storage Site\n",
      "(NIAGADS) offers to the public a unique, disease-centric collection of AD-relevant\n",
      "GWAS summary statistics datasets.\n",
      "∙Interpreting these data is challenging and requires significant bioinformatics exper-\n",
      "tise to standardize datasets and harmonize them with functional annotations on\n",
      "genome-wide scales.\n",
      "∙The NIAGADS Alzheimer’s GenomicsDB helps overcome these challenges by pro-\n",
      "viding a user-friendly public knowledge base for AD-relevant genetics that shares\n",
      "harmonized, annotated summary statistics datasets from the NIAGADS repository\n",
      "in an interpretable, easily searchable format.\n",
      "1 BACKGROUND\n",
      "Alzheimer’s disease (AD) is a progressive neurodegenerative disorder\n",
      "that currently affects approximately 6.7 million Americans aged 65 or\n",
      "older.1Our current understanding of genetic risk for AD comes mainly\n",
      "from ongoing massive genotyping and sequencing efforts carried out\n",
      "by the Alzheimer’s Disease Genetics Consortium (ADGC), the Inter-\n",
      "national Genomics of Alzheimer’s Project (IGAP), and the Alzheimer’s\n",
      "Disease Sequencing Project (ADSP). Large-scale genome-wide associ-\n",
      "ation studies (GWASs) and GWAS-derived meta-analyses have been\n",
      "performed by each of these groups.2–\n"
     ]
    }
   ],
   "source": [
    "parser.parse()\n",
    "print(parser.get_text()[:5000])"
   ]
  },
  {
   "cell_type": "code",
   "execution_count": 4,
   "id": "b558aa86",
   "metadata": {},
   "outputs": [
    {
     "data": {
      "application/vnd.jupyter.widget-view+json": {
       "model_id": "139aa150e8e048a5b2a2fb7e01f3c787",
       "version_major": 2,
       "version_minor": 0
      },
      "text/plain": [
       "Loading checkpoint shards:   0%|          | 0/2 [00:00<?, ?it/s]"
      ]
     },
     "metadata": {},
     "output_type": "display_data"
    },
    {
     "name": "stderr",
     "output_type": "stream",
     "text": [
      "Some parameters are on the meta device because they were offloaded to the cpu and disk.\n"
     ]
    }
   ],
   "source": [
    "parser.initialize_generator()"
   ]
  },
  {
   "cell_type": "code",
   "execution_count": 5,
   "id": "620543a9",
   "metadata": {},
   "outputs": [
    {
     "ename": "",
     "evalue": "",
     "output_type": "error",
     "traceback": [
      "\u001b[1;31mThe Kernel crashed while executing code in the current cell or a previous cell. \n",
      "\u001b[1;31mPlease review the code in the cell(s) to identify a possible cause of the failure. \n",
      "\u001b[1;31mClick <a href='https://aka.ms/vscodeJupyterKernelCrash'>here</a> for more info. \n",
      "\u001b[1;31mView Jupyter <a href='command:jupyter.viewOutput'>log</a> for further details."
     ]
    }
   ],
   "source": [
    "jsonObj = parser.to_json()"
   ]
  },
  {
   "cell_type": "code",
   "execution_count": null,
   "id": "be1e1c68",
   "metadata": {},
   "outputs": [],
   "source": [
    "print(jsonObj)"
   ]
  }
 ],
 "metadata": {
  "kernelspec": {
   "display_name": ".venv",
   "language": "python",
   "name": "python3"
  },
  "language_info": {
   "codemirror_mode": {
    "name": "ipython",
    "version": 3
   },
   "file_extension": ".py",
   "mimetype": "text/x-python",
   "name": "python",
   "nbconvert_exporter": "python",
   "pygments_lexer": "ipython3",
   "version": "3.10.12"
  }
 },
 "nbformat": 4,
 "nbformat_minor": 5
}
