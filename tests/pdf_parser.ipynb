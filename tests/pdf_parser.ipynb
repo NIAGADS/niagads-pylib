{
 "cells": [
  {
   "cell_type": "markdown",
   "id": "a746acea",
   "metadata": {},
   "source": [
    "# alternative models that can handle more tokens \n",
    "* GPT-2: 1024 tokens\n",
    "* EleutherAI/gpt-neo-2.7B: 2048 tokens\n",
    "* bigscience/bloom: 2048 tokens (for smaller models)"
   ]
  },
  {
   "cell_type": "code",
   "execution_count": 1,
   "id": "6a061057",
   "metadata": {},
   "outputs": [
    {
     "data": {
      "application/vnd.jupyter.widget-view+json": {
       "model_id": "2a0782555e554bbbb74ef8a7f1f89bd0",
       "version_major": 2,
       "version_minor": 0
      },
      "text/plain": [
       "config.json:   0%|          | 0.00/665 [00:00<?, ?B/s]"
      ]
     },
     "metadata": {},
     "output_type": "display_data"
    },
    {
     "data": {
      "application/vnd.jupyter.widget-view+json": {
       "model_id": "317dbb659bc34fefb9df4c716b0fe0ae",
       "version_major": 2,
       "version_minor": 0
      },
      "text/plain": [
       "model.safetensors:   0%|          | 0.00/548M [00:00<?, ?B/s]"
      ]
     },
     "metadata": {},
     "output_type": "display_data"
    },
    {
     "data": {
      "application/vnd.jupyter.widget-view+json": {
       "model_id": "58367e96f61f4840a2bca0c69916a846",
       "version_major": 2,
       "version_minor": 0
      },
      "text/plain": [
       "generation_config.json:   0%|          | 0.00/124 [00:00<?, ?B/s]"
      ]
     },
     "metadata": {},
     "output_type": "display_data"
    },
    {
     "data": {
      "application/vnd.jupyter.widget-view+json": {
       "model_id": "c1f448ac71c943a6881599d76f3a3b0a",
       "version_major": 2,
       "version_minor": 0
      },
      "text/plain": [
       "tokenizer_config.json:   0%|          | 0.00/26.0 [00:00<?, ?B/s]"
      ]
     },
     "metadata": {},
     "output_type": "display_data"
    },
    {
     "data": {
      "application/vnd.jupyter.widget-view+json": {
       "model_id": "5d65bccec5144c6ba6cf3af8dbf16eac",
       "version_major": 2,
       "version_minor": 0
      },
      "text/plain": [
       "vocab.json:   0%|          | 0.00/1.04M [00:00<?, ?B/s]"
      ]
     },
     "metadata": {},
     "output_type": "display_data"
    },
    {
     "data": {
      "application/vnd.jupyter.widget-view+json": {
       "model_id": "04ac0a86c1144f97b6ed2f154ac48d72",
       "version_major": 2,
       "version_minor": 0
      },
      "text/plain": [
       "merges.txt:   0%|          | 0.00/456k [00:00<?, ?B/s]"
      ]
     },
     "metadata": {},
     "output_type": "display_data"
    },
    {
     "data": {
      "application/vnd.jupyter.widget-view+json": {
       "model_id": "addad0ff00994eb5bbaac452a4c3d056",
       "version_major": 2,
       "version_minor": 0
      },
      "text/plain": [
       "tokenizer.json:   0%|          | 0.00/1.36M [00:00<?, ?B/s]"
      ]
     },
     "metadata": {},
     "output_type": "display_data"
    },
    {
     "name": "stderr",
     "output_type": "stream",
     "text": [
      "Device set to use cpu\n"
     ]
    }
   ],
   "source": [
    "from scripts.pdf_parser import PDFParser\n",
    "\n",
    "parser = PDFParser(\"./pdfs/alz-13509.pdf\", model=\"gpt2\", tokenLimit=512)\n",
    "# bigParser = PDFParser(\"./pdfs/alz-13509.pdf\", model=\"EleutherAI/gpt-neo-2.7B\", maxTokens=2048)"
   ]
  },
  {
   "cell_type": "code",
   "execution_count": 2,
   "id": "cdfb8e0d",
   "metadata": {},
   "outputs": [
    {
     "name": "stdout",
     "output_type": "stream",
     "text": [
      "Received: 2 June 2023 Revised: 25 August 2023 Accepted: 21 September 2023\n",
      "DOI: 10.1002/alz.13509\n",
      "RESEARCH ARTICLE\n",
      "NIAGADS Alzheimer’s GenomicsDB: A resource for exploring\n",
      "Alzheimer’s disease genetic and genomic knowledge\n",
      "Emily Greenfest-Allen1,2,3Otto Valladares1,2,3Pavel P. Kuksa1,2,3\n",
      "Prabhakaran Gangadharan1,2,3Wan-Ping Lee1,2,3Jeffrey Cifello1,3\n",
      "Zivadin Katanic1,2,3Amanda B. Kuzma1,2,3Nicholas Wheeler4William S. Bush4\n",
      "Yuk Yee Leung1,2,3Gerard Schellenberg1,2,3Christian J. Stoeckert Jr.2,5\n",
      "Li-\n"
     ]
    }
   ],
   "source": [
    "parser.parse()\n",
    "print(parser.get_text()[:500])"
   ]
  },
  {
   "cell_type": "code",
   "execution_count": 3,
   "id": "39cd56eb",
   "metadata": {},
   "outputs": [
    {
     "data": {
      "text/plain": [
       "16497"
      ]
     },
     "execution_count": 3,
     "metadata": {},
     "output_type": "execute_result"
    }
   ],
   "source": [
    "parser.get_num_input_tokens()"
   ]
  },
  {
   "cell_type": "code",
   "execution_count": null,
   "id": "620543a9",
   "metadata": {},
   "outputs": [],
   "source": [
    "jsonObj = parser.to_json()"
   ]
  },
  {
   "cell_type": "code",
   "execution_count": null,
   "id": "be1e1c68",
   "metadata": {},
   "outputs": [],
   "source": [
    "print(jsonObj)"
   ]
  }
 ],
 "metadata": {
  "kernelspec": {
   "display_name": ".venv",
   "language": "python",
   "name": "python3"
  },
  "language_info": {
   "codemirror_mode": {
    "name": "ipython",
    "version": 3
   },
   "file_extension": ".py",
   "mimetype": "text/x-python",
   "name": "python",
   "nbconvert_exporter": "python",
   "pygments_lexer": "ipython3",
   "version": "3.10.12"
  }
 },
 "nbformat": 4,
 "nbformat_minor": 5
}
